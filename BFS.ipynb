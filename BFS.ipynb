{
 "cells": [
  {
   "cell_type": "code",
   "execution_count": 31,
   "metadata": {},
   "outputs": [
    {
     "name": "stdout",
     "output_type": "stream",
     "text": [
      "[1 1 1 1 0 0]\n",
      "+---------+\n",
      "|\u001b[34;1mR\u001b[0m: | : :G|\n",
      "| : | : : |\n",
      "| : : :\u001b[43m \u001b[0m: |\n",
      "| | : | : |\n",
      "|\u001b[35mY\u001b[0m| : |B: |\n",
      "+---------+\n",
      "\n",
      "\n",
      "[[5. 4. 3. 2. 3.]\n",
      " [4. 3. 2. 1. 2.]\n",
      " [3. 2. 1. 0. 1.]\n",
      " [4. 3. 2. 1. 2.]\n",
      " [5. 4. 3. 2. 3.]]\n"
     ]
    }
   ],
   "source": [
    "from lib.TaxiEnv import TaxiEnv\n",
    "import numpy as np\n",
    "env = TaxiEnv()\n",
    "ActionRow = []\n",
    "\n",
    "env.print = False\n",
    "\n",
    "# print(env.lastState)\n",
    "# env.printCurState()\n",
    "# (next_state, reward, done, info1, info2) = env.move(env.getRandomMove())\n",
    "# print()\n",
    "# print((next_state, reward, done, info1, info2))\n",
    "# env.printCurState()\n",
    "actionHopper = []\n",
    "\n",
    "counter = 0\n",
    "updated = 0\n",
    "#Start by init of a 2D array with infinity values -> maximum cost\n",
    "vzdalenosti = np.ones((5,5)) \n",
    "vzdalenosti.fill(float(\"inf\"))\n",
    "\n",
    "startState = env.getLastState()\n",
    "\n",
    "actionMask = env.getLastActionMask()\n",
    "print(actionMask)\n",
    "akceId = 0\n",
    "for i in actionMask:\n",
    "            #If action is possible:\n",
    "            if(i == 1):\n",
    "                actionHopper.append((startState,akceId,0))\n",
    "            akceId += 1\n",
    "col, row = env.getPos(startState)\n",
    "vzdalenosti[row,col] = 0\n",
    "\n",
    "\n",
    "\n",
    "\n",
    "\n",
    "env.printCurState()\n",
    "\n",
    "while counter < 8:\n",
    "    updated = 0\n",
    "    newActionHopper = []\n",
    "    for a in range(len(actionHopper)):        \n",
    "        akce = actionHopper.pop(0)\n",
    "\n",
    "        #Set the state we got from hopper:\n",
    "        prevStav = akce[0]\n",
    "        vzdalenost = akce[2]\n",
    "        env.setState(prevStav)\n",
    "\n",
    "        #Make a move:\n",
    "        (next_state, reward, done, info1, info2) = env.move(akce[1])\n",
    "        #Get possible actions in that state\n",
    "        actionMask = info2[\"action_mask\"]\n",
    "        #If we got to current state more efficiently than ever before:\n",
    "        col, row = env.getPos(next_state)\n",
    "        if(vzdalenosti[row,col] > (vzdalenost- reward)):\n",
    "            if(reward == 20):\n",
    "                vzdalenosti[row,col] = float(\"-inf\")\n",
    "            else:\n",
    "                vzdalenosti[row,col] = vzdalenost-reward\n",
    "            \n",
    "            #Go through result and append all possible actions:\n",
    "            akceId = 0\n",
    "            for i in actionMask:\n",
    "                #If action is possible:\n",
    "                if(i == 1):\n",
    "                    updated += 1\n",
    "                    newActionHopper.append((next_state,akceId,vzdalenosti[row,col]))\n",
    "                akceId += 1\n",
    "        else:\n",
    "            #Otherwise, skip this step, we have been here\n",
    "            continue\n",
    "    #print(updated)\n",
    "    #Make newActionHopper our current hopper\n",
    "    #print(newActionHopper)\n",
    "    actionHopper = newActionHopper\n",
    "    #Just a debug counter\n",
    "    counter += 1\n",
    "\n",
    "print(vzdalenosti)\n"
   ]
  },
  {
   "cell_type": "code",
   "execution_count": 2,
   "metadata": {},
   "outputs": [
    {
     "name": "stdout",
     "output_type": "stream",
     "text": [
      "(427, {'prob': 1.0, 'action_mask': array([0, 1, 1, 0, 0, 0], dtype=int8)})\n"
     ]
    }
   ],
   "source": [
    "print(env.lastState)"
   ]
  },
  {
   "cell_type": "code",
   "execution_count": 3,
   "metadata": {},
   "outputs": [
    {
     "name": "stdout",
     "output_type": "stream",
     "text": [
      "None\n"
     ]
    },
    {
     "ename": "AttributeError",
     "evalue": "'TaxiEnv' object has no attribute 'de'",
     "output_type": "error",
     "traceback": [
      "\u001b[0;31m---------------------------------------------------------------------------\u001b[0m",
      "\u001b[0;31mAttributeError\u001b[0m                            Traceback (most recent call last)",
      "\u001b[1;32m/home/sipekd/Desktop/ReinforcementLearning/BFS.ipynb Cell 3\u001b[0m line \u001b[0;36m2\n\u001b[1;32m      <a href='vscode-notebook-cell:/home/sipekd/Desktop/ReinforcementLearning/BFS.ipynb#W1sZmlsZQ%3D%3D?line=0'>1</a>\u001b[0m \u001b[39mprint\u001b[39m(env\u001b[39m.\u001b[39msetState(\u001b[39m40\u001b[39m))\n\u001b[0;32m----> <a href='vscode-notebook-cell:/home/sipekd/Desktop/ReinforcementLearning/BFS.ipynb#W1sZmlsZQ%3D%3D?line=1'>2</a>\u001b[0m \u001b[39mprint\u001b[39m(env\u001b[39m.\u001b[39;49menv\u001b[39m.\u001b[39;49mde)\n\u001b[1;32m      <a href='vscode-notebook-cell:/home/sipekd/Desktop/ReinforcementLearning/BFS.ipynb#W1sZmlsZQ%3D%3D?line=2'>3</a>\u001b[0m env\u001b[39m.\u001b[39mprintCurState()\n",
      "File \u001b[0;32m~/anaconda3/envs/bat/lib/python3.11/site-packages/gymnasium/core.py:282\u001b[0m, in \u001b[0;36mWrapper.__getattr__\u001b[0;34m(self, name)\u001b[0m\n\u001b[1;32m    280\u001b[0m \u001b[39melif\u001b[39;00m name\u001b[39m.\u001b[39mstartswith(\u001b[39m\"\u001b[39m\u001b[39m_\u001b[39m\u001b[39m\"\u001b[39m):\n\u001b[1;32m    281\u001b[0m     \u001b[39mraise\u001b[39;00m \u001b[39mAttributeError\u001b[39;00m(\u001b[39mf\u001b[39m\u001b[39m\"\u001b[39m\u001b[39maccessing private attribute \u001b[39m\u001b[39m'\u001b[39m\u001b[39m{\u001b[39;00mname\u001b[39m}\u001b[39;00m\u001b[39m'\u001b[39m\u001b[39m is prohibited\u001b[39m\u001b[39m\"\u001b[39m)\n\u001b[0;32m--> 282\u001b[0m \u001b[39mreturn\u001b[39;00m \u001b[39mgetattr\u001b[39m(\u001b[39mself\u001b[39m\u001b[39m.\u001b[39menv, name)\n",
      "File \u001b[0;32m~/anaconda3/envs/bat/lib/python3.11/site-packages/gymnasium/core.py:282\u001b[0m, in \u001b[0;36mWrapper.__getattr__\u001b[0;34m(self, name)\u001b[0m\n\u001b[1;32m    280\u001b[0m \u001b[39melif\u001b[39;00m name\u001b[39m.\u001b[39mstartswith(\u001b[39m\"\u001b[39m\u001b[39m_\u001b[39m\u001b[39m\"\u001b[39m):\n\u001b[1;32m    281\u001b[0m     \u001b[39mraise\u001b[39;00m \u001b[39mAttributeError\u001b[39;00m(\u001b[39mf\u001b[39m\u001b[39m\"\u001b[39m\u001b[39maccessing private attribute \u001b[39m\u001b[39m'\u001b[39m\u001b[39m{\u001b[39;00mname\u001b[39m}\u001b[39;00m\u001b[39m'\u001b[39m\u001b[39m is prohibited\u001b[39m\u001b[39m\"\u001b[39m)\n\u001b[0;32m--> 282\u001b[0m \u001b[39mreturn\u001b[39;00m \u001b[39mgetattr\u001b[39m(\u001b[39mself\u001b[39m\u001b[39m.\u001b[39menv, name)\n",
      "\u001b[0;31mAttributeError\u001b[0m: 'TaxiEnv' object has no attribute 'de'"
     ]
    }
   ],
   "source": [
    "print(env.setState(40))\n",
    "print(env.env.de)\n",
    "env.printCurState()"
   ]
  },
  {
   "cell_type": "code",
   "execution_count": null,
   "metadata": {},
   "outputs": [
    {
     "name": "stdout",
     "output_type": "stream",
     "text": [
      "+---------+\n",
      "|\u001b[35mR\u001b[0m: | : :G|\n",
      "| : | : : |\n",
      "| : : : : |\n",
      "| | : |\u001b[43m \u001b[0m: |\n",
      "|\u001b[34;1mY\u001b[0m| : |B: |\n",
      "+---------+\n",
      "  (West)\n",
      "\n",
      "[(1.0, 488, -1, False)]\n"
     ]
    },
    {
     "ename": "TypeError",
     "evalue": "unsupported operand type(s) for %: 'list' and 'int'",
     "output_type": "error",
     "traceback": [
      "\u001b[0;31m---------------------------------------------------------------------------\u001b[0m",
      "\u001b[0;31mTypeError\u001b[0m                                 Traceback (most recent call last)",
      "\u001b[1;32m/home/sipekd/Desktop/ReinforcementLearning/BFS.ipynb Cell 3\u001b[0m line \u001b[0;36m4\n\u001b[1;32m      <a href='vscode-notebook-cell:/home/sipekd/Desktop/ReinforcementLearning/BFS.ipynb#W2sZmlsZQ%3D%3D?line=0'>1</a>\u001b[0m env\u001b[39m.\u001b[39mprintCurState()\n\u001b[1;32m      <a href='vscode-notebook-cell:/home/sipekd/Desktop/ReinforcementLearning/BFS.ipynb#W2sZmlsZQ%3D%3D?line=2'>3</a>\u001b[0m \u001b[39mprint\u001b[39m(env\u001b[39m.\u001b[39mgetLastState())\n\u001b[0;32m----> <a href='vscode-notebook-cell:/home/sipekd/Desktop/ReinforcementLearning/BFS.ipynb#W2sZmlsZQ%3D%3D?line=3'>4</a>\u001b[0m \u001b[39mprint\u001b[39m(env\u001b[39m.\u001b[39;49mgetPos())\n",
      "File \u001b[0;32m~/Desktop/ReinforcementLearning/lib/TaxiEnv.py:32\u001b[0m, in \u001b[0;36mTaxiEnv.getPos\u001b[0;34m(self)\u001b[0m\n\u001b[1;32m     30\u001b[0m \u001b[39mdef\u001b[39;00m \u001b[39mgetPos\u001b[39m(\u001b[39mself\u001b[39m):\n\u001b[1;32m     31\u001b[0m     x \u001b[39m=\u001b[39m \u001b[39mself\u001b[39m\u001b[39m.\u001b[39mgetLastState()\n\u001b[0;32m---> 32\u001b[0m     vysl \u001b[39m=\u001b[39m \u001b[39mlist\u001b[39m(\u001b[39mself\u001b[39;49m\u001b[39m.\u001b[39;49menv\u001b[39m.\u001b[39;49munwrapped\u001b[39m.\u001b[39;49mdecode(x))\n\u001b[1;32m     33\u001b[0m     \u001b[39m# stav = self.getLastState()\u001b[39;00m\n\u001b[1;32m     34\u001b[0m     \u001b[39m# col = math.floor((stav%100)/20)\u001b[39;00m\n\u001b[1;32m     35\u001b[0m     \u001b[39m# row = math.floor(stav/100)\u001b[39;00m\n\u001b[1;32m     36\u001b[0m     \u001b[39mreturn\u001b[39;00m(vysl[\u001b[39m1\u001b[39m],vysl[\u001b[39m0\u001b[39m])\n",
      "File \u001b[0;32m~/anaconda3/envs/bat/lib/python3.11/site-packages/gymnasium/envs/toy_text/taxi.py:254\u001b[0m, in \u001b[0;36mTaxiEnv.decode\u001b[0;34m(self, i)\u001b[0m\n\u001b[1;32m    252\u001b[0m \u001b[39mdef\u001b[39;00m \u001b[39mdecode\u001b[39m(\u001b[39mself\u001b[39m, i):\n\u001b[1;32m    253\u001b[0m     out \u001b[39m=\u001b[39m []\n\u001b[0;32m--> 254\u001b[0m     out\u001b[39m.\u001b[39mappend(i \u001b[39m%\u001b[39;49m \u001b[39m4\u001b[39;49m)\n\u001b[1;32m    255\u001b[0m     i \u001b[39m=\u001b[39m i \u001b[39m/\u001b[39m\u001b[39m/\u001b[39m \u001b[39m4\u001b[39m\n\u001b[1;32m    256\u001b[0m     out\u001b[39m.\u001b[39mappend(i \u001b[39m%\u001b[39m \u001b[39m5\u001b[39m)\n",
      "\u001b[0;31mTypeError\u001b[0m: unsupported operand type(s) for %: 'list' and 'int'"
     ]
    }
   ],
   "source": [
    "env.printCurState()\n",
    "\n",
    "print(env.getLastState())\n",
    "print(env.getPos())"
   ]
  }
 ],
 "metadata": {
  "kernelspec": {
   "display_name": "bat",
   "language": "python",
   "name": "python3"
  },
  "language_info": {
   "codemirror_mode": {
    "name": "ipython",
    "version": 3
   },
   "file_extension": ".py",
   "mimetype": "text/x-python",
   "name": "python",
   "nbconvert_exporter": "python",
   "pygments_lexer": "ipython3",
   "version": "3.11.5"
  },
  "orig_nbformat": 4
 },
 "nbformat": 4,
 "nbformat_minor": 2
}
