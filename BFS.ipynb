{
 "cells": [
  {
   "cell_type": "code",
   "execution_count": 36,
   "metadata": {},
   "outputs": [
    {
     "name": "stdout",
     "output_type": "stream",
     "text": [
      "[1 0 1 0 0 0]\n",
      "+---------+\n",
      "|\u001b[43mR\u001b[0m: | : :\u001b[35mG\u001b[0m|\n",
      "| : | : : |\n",
      "| : : : : |\n",
      "| | : | : |\n",
      "|\u001b[34;1mY\u001b[0m| : |B: |\n",
      "+---------+\n",
      "\n",
      "\n",
      "[[  0.   1.   6.   7.   8.]\n",
      " [  1.   2.   5.   6.   7.]\n",
      " [  2.   3.   4.   5.   6.]\n",
      " [  3.   4.   5.   6.   7.]\n",
      " [-inf   5.   6.   7.   8.]]\n"
     ]
    }
   ],
   "source": [
    "from lib.TaxiEnv import TaxiEnv\n",
    "import numpy as np\n",
    "env = TaxiEnv()\n",
    "ActionRow = []\n",
    "\n",
    "env.print = False\n",
    "\n",
    "# print(env.lastState)\n",
    "# env.printCurState()\n",
    "# (next_state, reward, done, info1, info2) = env.move(env.getRandomMove())\n",
    "# print()\n",
    "# print((next_state, reward, done, info1, info2))\n",
    "# env.printCurState()\n",
    "actionHopper = []\n",
    "\n",
    "counter = 0\n",
    "updated = 0\n",
    "#Start by init of a 2D array with infinity values -> maximum cost\n",
    "vzdalenosti = np.ones((5,5)) \n",
    "vzdalenosti.fill(float(\"inf\"))\n",
    "\n",
    "startState = env.getLastState()\n",
    "\n",
    "actionMask = env.getLastActionMask()\n",
    "print(actionMask)\n",
    "akceId = 0\n",
    "for i in actionMask:\n",
    "            #If action is possible:\n",
    "            if(i == 1):\n",
    "                actionHopper.append((startState,akceId,0))\n",
    "            akceId += 1\n",
    "col, row = env.getPos(startState)\n",
    "vzdalenosti[row,col] = 0\n",
    "\n",
    "Target = 4\n",
    "\n",
    "\n",
    "\n",
    "env.printCurState()\n",
    "\n",
    "while counter < 8:\n",
    "    updated = 0\n",
    "    newActionHopper = []\n",
    "    for a in range(len(actionHopper)):        \n",
    "        akce = actionHopper.pop(0)\n",
    "\n",
    "        #Set the state we got from hopper:\n",
    "        prevStav = akce[0]\n",
    "        vzdalenost = akce[2]\n",
    "        env.setState(prevStav)\n",
    "\n",
    "        #Make a move:\n",
    "        (next_state, reward, done, info1, info2) = env.move(akce[1])\n",
    "        #Get possible actions in that state\n",
    "        actionMask = info2[\"action_mask\"]\n",
    "        #If we got to current state more efficiently than ever before:\n",
    "        col, row = env.getPos(next_state)\n",
    "        if(vzdalenosti[row,col] > (vzdalenost- reward)):\n",
    "            #print(reward)\n",
    "            if(reward == 20):\n",
    "                #print(\"yes\")\n",
    "                vzdalenosti[row,col] = float(\"-inf\")\n",
    "            else:\n",
    "                vzdalenosti[row,col] = vzdalenost-reward\n",
    "            \n",
    "            #Go through result and append all possible actions:\n",
    "            akceId = 0\n",
    "            for i in actionMask:\n",
    "                #If action is possible:\n",
    "                if(i == 1):\n",
    "                    updated += 1\n",
    "                    newActionHopper.append((next_state,akceId,vzdalenosti[row,col]))\n",
    "                    if(akceId == Target):\n",
    "                        vzdalenosti[row,col] = float(\"-inf\")\n",
    "                akceId += 1\n",
    "        else:\n",
    "            #Otherwise, skip this step, we have been here\n",
    "            continue\n",
    "    #print(updated)\n",
    "    #Make newActionHopper our current hopper\n",
    "    #print(newActionHopper)\n",
    "    actionHopper = newActionHopper\n",
    "    #Just a debug counter\n",
    "    counter += 1\n",
    "\n",
    "print(vzdalenosti)\n"
   ]
  },
  {
   "cell_type": "code",
   "execution_count": 57,
   "metadata": {},
   "outputs": [
    {
     "name": "stdout",
     "output_type": "stream",
     "text": [
      "(5, 5)\n",
      "[ 5. inf inf  3.]\n"
     ]
    }
   ],
   "source": [
    "\n",
    "#PathFinding Itself\n",
    "cilY, cilX = np.unravel_index(vzdalenosti.argmin(),vzdalenosti.shape)\n",
    "sample = np.ones((4,))\n",
    "sample.fill(float(\"inf\"))\n",
    "bounds = vzdalenosti.shape\n",
    "print(bounds)\n",
    "if((cilX + 1) < bounds[0] ):\n",
    "    sample[0] = min(sample[0],vzdalenosti[cilY,cilX+1])\n",
    "if((cilY + 1) < bounds[1] ):\n",
    "    sample[2] = min(sample[2],vzdalenosti[cilY+1,cilX])\n",
    "if((cilX - 1) >= 0 ):\n",
    "    sample[1] = min(sample[1],vzdalenosti[cilY,cilX-1])\n",
    "if((cilY - 1)  >= 0 ):\n",
    "    sample[3] = min(sample[3],vzdalenosti[cilY-1,cilX])\n",
    "\n",
    "print(sample)\n",
    "#     sample = [vzdalenosti[cilX+1,cilY],vzdalenosti[cilX-1,cilY],vzdalenosti[cilX,cilY+1],vzdalenosti[cilX,cilY-1]]\n"
   ]
  },
  {
   "cell_type": "code",
   "execution_count": 2,
   "metadata": {},
   "outputs": [
    {
     "name": "stdout",
     "output_type": "stream",
     "text": [
      "(427, {'prob': 1.0, 'action_mask': array([0, 1, 1, 0, 0, 0], dtype=int8)})\n"
     ]
    }
   ],
   "source": [
    "print(env.lastState)"
   ]
  },
  {
   "cell_type": "code",
   "execution_count": 33,
   "metadata": {},
   "outputs": [
    {
     "name": "stdout",
     "output_type": "stream",
     "text": [
      "+---------+\n",
      "|\u001b[34;1mR\u001b[0m: | : :G|\n",
      "| : | : : |\n",
      "| : : : : |\n",
      "|\u001b[43m \u001b[0m| : | : |\n",
      "|\u001b[35mY\u001b[0m| : |B: |\n",
      "+---------+\n",
      "  (North)\n",
      "\n",
      "+---------+\n",
      "|\u001b[34;1mR\u001b[0m: | : :G|\n",
      "| : | : : |\n",
      "| : : :\u001b[43m \u001b[0m: |\n",
      "| | : | : |\n",
      "|\u001b[35mY\u001b[0m| : |B: |\n",
      "+---------+\n",
      "  (North)\n",
      "\n"
     ]
    }
   ],
   "source": [
    "env.printCurState()\n",
    "env.setState(startState)\n",
    "env.printCurState()\n"
   ]
  }
 ],
 "metadata": {
  "kernelspec": {
   "display_name": "bat",
   "language": "python",
   "name": "python3"
  },
  "language_info": {
   "codemirror_mode": {
    "name": "ipython",
    "version": 3
   },
   "file_extension": ".py",
   "mimetype": "text/x-python",
   "name": "python",
   "nbconvert_exporter": "python",
   "pygments_lexer": "ipython3",
   "version": "3.11.5"
  },
  "orig_nbformat": 4
 },
 "nbformat": 4,
 "nbformat_minor": 2
}
