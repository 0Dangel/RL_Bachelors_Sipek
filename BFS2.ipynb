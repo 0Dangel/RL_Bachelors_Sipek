{
 "cells": [
  {
   "cell_type": "code",
   "execution_count": 83,
   "metadata": {},
   "outputs": [],
   "source": [
    "def getInverseAction(action):\n",
    "    if(action == 0):\n",
    "        return 1    \n",
    "    if(action == 1):\n",
    "        return 0    \n",
    "    if(action == 2):\n",
    "        return 3    \n",
    "    if(action == 3):\n",
    "        return 2\n",
    "    return 1000"
   ]
  },
  {
   "cell_type": "code",
   "execution_count": 121,
   "metadata": {},
   "outputs": [
    {
     "name": "stdout",
     "output_type": "stream",
     "text": [
      "[1 1 0 1 0 0]\n",
      "+---------+\n",
      "|R: | : :\u001b[35mG\u001b[0m|\n",
      "| : | : :\u001b[43m \u001b[0m|\n",
      "| : : : : |\n",
      "| | : | : |\n",
      "|\u001b[34;1mY\u001b[0m| : |B: |\n",
      "+---------+\n",
      "\n",
      "\n",
      "[(189, 0, 0), (189, 1, 0), (189, 3, 0)]\n",
      "[[9, 0, 7, [29, 3, 6, [129, 1, 5, [229, 1, 4, [249, 3, 3, [269, 3, 2, [289, 3, 1, (189, 0, 0)]]]]]]], [9, 2, 7, [109, 1, 6, [129, 3, 5, [229, 1, 4, [249, 3, 3, [269, 3, 2, [289, 3, 1, (189, 0, 0)]]]]]]], [409, 4, 7, [309, 0, 6, [209, 0, 5, [229, 3, 4, [249, 3, 3, [269, 3, 2, [289, 3, 1, (189, 0, 0)]]]]]]]]\n"
     ]
    }
   ],
   "source": [
    "from lib.TaxiEnv import TaxiEnv\n",
    "import numpy as np\n",
    "env = TaxiEnv()\n",
    "ActionRow = []\n",
    "\n",
    "env.print = False\n",
    "\n",
    "# print(env.lastState)\n",
    "# env.printCurState()\n",
    "# (next_state, reward, done, info1, info2) = env.move(env.getRandomMove())\n",
    "# print()\n",
    "# print((next_state, reward, done, info1, info2))\n",
    "# env.printCurState()\n",
    "actionHopper = []\n",
    "\n",
    "counter = 0\n",
    "updated = 0\n",
    "#Start by init of a 2D array with infinity values -> maximum cost\n",
    "vzdalenosti = np.ones((5,5)) \n",
    "vzdalenosti.fill(float(\"inf\"))\n",
    "\n",
    "startState = env.getLastState()\n",
    "\n",
    "actionMask = env.getLastActionMask()\n",
    "print(actionMask)\n",
    "\n",
    "states=[]\n",
    "akceId = 0\n",
    "for i in actionMask:\n",
    "            #If action is possible:\n",
    "            if(i == 1):\n",
    "                actionHopper.append((startState,akceId,0))\n",
    "                states.append(startState)\n",
    "            akceId += 1\n",
    "col, row = env.getPos(startState)\n",
    "env.printCurState()\n",
    "print(actionHopper)\n",
    "actionHopper2 = []\n",
    "\n",
    "dontReturn = True\n",
    "returnVal = []\n",
    "counter = 0\n",
    "\n",
    "while (dontReturn and len(actionHopper) > 0):\n",
    "    if(counter > 15):\n",
    "        break\n",
    "    counter += 1\n",
    "    for i in actionHopper:\n",
    "            \n",
    "            env.setState(i[0])\n",
    "            (next_state, reward, done, info1, info2) = env.move(i[1])\n",
    "            if(next_state in states):\n",
    "                continue\n",
    "            actionMask = info2[\"action_mask\"]\n",
    "            if(reward == 20):\n",
    "                dontReturn = False\n",
    "                returnVal = i\n",
    "                break\n",
    "            akceId = 0\n",
    "            for j in actionMask:\n",
    "                #If action is possible:\n",
    "                if(akceId != getInverseAction(i[1])):\n",
    "                    if(j == 1):\n",
    "                        actionHopper2.append([next_state,akceId,i[2]+1,i])\n",
    "                        if(akceId >= 4):\n",
    "                            dontReturn = False\n",
    "                            returnVal = [next_state,akceId,i[2]+1,i]\n",
    "                            break\n",
    "                akceId += 1\n",
    "            states.append(i[0])\n",
    "            if(not dontReturn):\n",
    "                break\n",
    "    #print(actionHopper2)\n",
    "    actionHopper = actionHopper2\n",
    "    actionHopper2 = []\n",
    "print(actionHopper)\n",
    "        "
   ]
  },
  {
   "cell_type": "code",
   "execution_count": 122,
   "metadata": {},
   "outputs": [
    {
     "name": "stdout",
     "output_type": "stream",
     "text": [
      "[409, 4, 7, [309, 0, 6, [209, 0, 5, [229, 3, 4, [249, 3, 3, [269, 3, 2, [289, 3, 1, (189, 0, 0)]]]]]]]\n"
     ]
    }
   ],
   "source": [
    "#Indexy akcí: 0 - down, 1 - up, 2 - right, 3 - left, 4 - pick, 5 - put. \n",
    "print(returnVal)"
   ]
  },
  {
   "cell_type": "code",
   "execution_count": 115,
   "metadata": {},
   "outputs": [
    {
     "name": "stdout",
     "output_type": "stream",
     "text": [
      "[1 0 1 1 0 0]\n"
     ]
    }
   ],
   "source": [
    "print(actionMask)"
   ]
  }
 ],
 "metadata": {
  "kernelspec": {
   "display_name": "bat",
   "language": "python",
   "name": "python3"
  },
  "language_info": {
   "codemirror_mode": {
    "name": "ipython",
    "version": 3
   },
   "file_extension": ".py",
   "mimetype": "text/x-python",
   "name": "python",
   "nbconvert_exporter": "python",
   "pygments_lexer": "ipython3",
   "version": "3.11.5"
  },
  "orig_nbformat": 4
 },
 "nbformat": 4,
 "nbformat_minor": 2
}
