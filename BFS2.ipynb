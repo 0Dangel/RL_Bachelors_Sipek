{
 "cells": [
  {
   "cell_type": "code",
   "execution_count": 83,
   "metadata": {},
   "outputs": [],
   "source": [
    "def getInverseAction(action):\n",
    "    if(action == 0):\n",
    "        return 1    \n",
    "    if(action == 1):\n",
    "        return 0    \n",
    "    if(action == 2):\n",
    "        return 3    \n",
    "    if(action == 3):\n",
    "        return 2\n",
    "    return 1000"
   ]
  },
  {
   "cell_type": "code",
   "execution_count": 126,
   "metadata": {},
   "outputs": [
    {
     "name": "stdout",
     "output_type": "stream",
     "text": [
      "+---------+\n",
      "|R: | : :\u001b[34;1mG\u001b[0m|\n",
      "|\u001b[43m \u001b[0m: | : : |\n",
      "| : : : : |\n",
      "| | : | : |\n",
      "|Y| : |\u001b[35mB\u001b[0m: |\n",
      "+---------+\n",
      "\n",
      "\n",
      "[(107, 0, 0), (107, 1, 0), (107, 2, 0)]\n"
     ]
    }
   ],
   "source": [
    "from lib.TaxiEnv import TaxiEnv\n",
    "import numpy as np\n",
    "env = TaxiEnv()\n",
    "ActionRow = []\n",
    "\n",
    "env.print = False\n",
    "\n",
    "#Action hopper - Hopper1 is \"current itteration\", Hopper2 is \"nextStep\" \n",
    "actionHopper = []\n",
    "actionHopper2 = []\n",
    "\n",
    "#Just a basic \"Been here before\" paths pruning\n",
    "states=[]\n",
    "\n",
    "\n",
    "#First manual Itteration - needs to make main cycle more generic\n",
    "startState = env.getLastState()\n",
    "actionMask = env.getLastActionMask()\n",
    "#print(actionMask)\n",
    "akceId = 0\n",
    "for i in actionMask:\n",
    "            #If action is possible:\n",
    "            if(i == 1):\n",
    "                actionHopper.append((startState,akceId,0))\n",
    "                states.append(startState)\n",
    "            akceId += 1\n",
    "col, row = env.getPos(startState)\n",
    "env.printCurState()\n",
    "print(actionHopper)\n",
    "\n",
    "\n",
    "#Values used for return - \"we got to the result\" flag\n",
    "dontReturn = True\n",
    "#Whole path, states, costs and also actions\n",
    "returnVal = []\n",
    "#Basic heuristics - make sure we didn't ran into an infinite cycle\n",
    "counter = 0\n",
    "\n",
    "#While result doesn't exist and we still got some actions to do:\n",
    "while (dontReturn and len(actionHopper) > 0):\n",
    "    #Check if we are not Too deep\n",
    "    if(counter > 15):\n",
    "        break\n",
    "    counter += 1\n",
    "    #For all actions in list:\n",
    "    for i in actionHopper:\n",
    "            \n",
    "            #Set the state from action\n",
    "            env.setState(i[0])\n",
    "            #Make a move\n",
    "            (next_state, reward, done, info1, info2) = env.move(i[1])\n",
    "            #If we have already visited this state - go for next action\n",
    "            if(next_state in states):\n",
    "                continue\n",
    "\n",
    "            #Check if we didn't score target\n",
    "            if(reward == 20):\n",
    "                #If yes - return\n",
    "                dontReturn = False\n",
    "                returnVal = i\n",
    "                break\n",
    "\n",
    "            #Get possible actions of current state\n",
    "            actionMask = info2[\"action_mask\"]\n",
    "            akceId = 0\n",
    "            #For all possible actions:\n",
    "            for j in actionMask:\n",
    "                #If the action is possible\n",
    "                if(j == 1):\n",
    "                    #If action is not reverse of the current one:\n",
    "                    #(we really don't want to go back - efficiency)\n",
    "                    if(akceId != getInverseAction(i[1])):\n",
    "                        #Append that action to the hopper\n",
    "                        actionHopper2.append([next_state,akceId,i[2]+1,i])\n",
    "                        #If the action is final - we got a target so return it\n",
    "                        if(akceId >= 4):\n",
    "                            dontReturn = False\n",
    "                            returnVal = [next_state,akceId,i[2]+1,i]\n",
    "                            break\n",
    "                akceId += 1\n",
    "            #Mark this state as completed\n",
    "            states.append(i[0])\n",
    "            #Check if we should return something\n",
    "            if(not dontReturn):\n",
    "                break\n",
    "    #print(actionHopper2)\n",
    "    actionHopper = actionHopper2\n",
    "    actionHopper2 = []\n",
    "#print(actionHopper)\n",
    "        "
   ]
  },
  {
   "cell_type": "code",
   "execution_count": 127,
   "metadata": {},
   "outputs": [
    {
     "name": "stdout",
     "output_type": "stream",
     "text": [
      "[87, 4, 7, [67, 2, 6, [47, 2, 5, [147, 1, 4, [247, 1, 3, [227, 2, 2, [207, 2, 1, (107, 0, 0)]]]]]]]\n"
     ]
    }
   ],
   "source": [
    "#Indexy akcí: 0 - down, 1 - up, 2 - right, 3 - left, 4 - pick, 5 - put. \n",
    "print(returnVal)"
   ]
  }
 ],
 "metadata": {
  "kernelspec": {
   "display_name": "bat",
   "language": "python",
   "name": "python3"
  },
  "language_info": {
   "codemirror_mode": {
    "name": "ipython",
    "version": 3
   },
   "file_extension": ".py",
   "mimetype": "text/x-python",
   "name": "python",
   "nbconvert_exporter": "python",
   "pygments_lexer": "ipython3",
   "version": "3.11.5"
  },
  "orig_nbformat": 4
 },
 "nbformat": 4,
 "nbformat_minor": 2
}
