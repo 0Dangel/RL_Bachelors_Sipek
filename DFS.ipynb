{
 "cells": [
  {
   "cell_type": "code",
   "execution_count": 2,
   "metadata": {},
   "outputs": [],
   "source": [
    "from lib.utilities import getInverseAction"
   ]
  },
  {
   "cell_type": "code",
   "execution_count": 3,
   "metadata": {},
   "outputs": [],
   "source": [
    "#Settings for heuristics\n",
    "MaxJumps = 10"
   ]
  },
  {
   "cell_type": "code",
   "execution_count": 71,
   "metadata": {},
   "outputs": [
    {
     "name": "stdout",
     "output_type": "stream",
     "text": [
      "+---------+\n",
      "|R: | : :\u001b[35mG\u001b[0m|\n",
      "| : | : : |\n",
      "| : : : : |\n",
      "| | : | : |\n",
      "|\u001b[34;1m\u001b[43mY\u001b[0m\u001b[0m| : |B: |\n",
      "+---------+\n",
      "\n",
      "\n",
      "[(409, 1, 0), (409, 4, 0)]\n",
      "[[409, 4, 0, []]]\n"
     ]
    }
   ],
   "source": [
    "#Init env\n",
    "from lib.TaxiEnv import TaxiEnv\n",
    "import numpy as np\n",
    "env = TaxiEnv()\n",
    "env.print = False\n",
    "\n",
    "#Setup a hopper for actions\n",
    "actionHopper = []\n",
    "\n",
    "#Start by simple adding all first avaliable states:\n",
    "startState = env.getLastState()\n",
    "actionMask = env.getLastActionMask()\n",
    "#\"WE have been here\"- state array:\n",
    "states=[]\n",
    "akceId = 0\n",
    "\n",
    "minLen = float(\"inf\")\n",
    "returnVal = []\n",
    "\n",
    "for i in actionMask:\n",
    "            #If action is possible:\n",
    "            if(i == 1):\n",
    "                actionHopper.append((startState,akceId,0))\n",
    "                states.append(startState)\n",
    "                if(akceId >= 4):\n",
    "                    returnVal.append([startState,akceId,0,[]])\n",
    "            akceId += 1\n",
    "col, row = env.getPos(startState)\n",
    "env.printCurState()\n",
    "print(actionHopper)\n",
    "\n",
    "\n",
    "#Structure of BFS:\n",
    "#State, Action, metric, olderState...\n",
    "#[87, 4, 7, [67, 2, 6, [47, 2, 5, [147, 1, 4, [247, 1, 3, [227, 2, 2, [207, 2, 1, (107, 0, 0)]]]]]]]\n",
    "\n",
    "#Have we already solved it in first itter?\n",
    "if(len(returnVal) ==0):\n",
    "    #While there is some action left to be done:\n",
    "    while(len(actionHopper)>0):\n",
    "        #Get most recently added action\n",
    "        curAct = actionHopper.pop(0)\n",
    "        #if current length is less than MaxJumps - Maximum depth has not been reached\n",
    "        if(curAct[2]< MaxJumps):\n",
    "            #Set the state\n",
    "            env.setState(curAct[0])\n",
    "            #Make the action\n",
    "            (next_state, reward, done, info1, info2) = env.move(curAct[1])\n",
    "            #Get current possibilities\n",
    "            actionMask = info2[\"action_mask\"]\n",
    "            akceId = 0\n",
    "            #For all actions\n",
    "            for j in actionMask:\n",
    "                #If it is possible to do\n",
    "                if(j == 1):\n",
    "                    #If it is not a inverse of step to here - literally useless to add that possible step\n",
    "                    if(akceId != getInverseAction(curAct[1])):    \n",
    "                            #If we have reached the \"end goal\"                        \n",
    "                            if(akceId >= 4):\n",
    "                                    #And it is shorter than previously solved one:\n",
    "                                    if(minLen > curAct[2]+1):\n",
    "                                        minLen = curAct[2]+1\n",
    "                                        returnVal.append([next_state,akceId,curAct[2]+1,curAct])\n",
    "                            #If it's \"basic\" action, add to the front of stack instead:\n",
    "                            else:                                \n",
    "                                actionHopper.append([next_state,akceId,curAct[2]+1,curAct])\n",
    "                akceId += 1\n",
    "print(returnVal)\n",
    "                     "
   ]
  }
 ],
 "metadata": {
  "kernelspec": {
   "display_name": "bat",
   "language": "python",
   "name": "python3"
  },
  "language_info": {
   "codemirror_mode": {
    "name": "ipython",
    "version": 3
   },
   "file_extension": ".py",
   "mimetype": "text/x-python",
   "name": "python",
   "nbconvert_exporter": "python",
   "pygments_lexer": "ipython3",
   "version": "3.11.5"
  },
  "orig_nbformat": 4
 },
 "nbformat": 4,
 "nbformat_minor": 2
}
