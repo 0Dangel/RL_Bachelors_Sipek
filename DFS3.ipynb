{
 "cells": [
  {
   "cell_type": "code",
   "execution_count": 1,
   "metadata": {},
   "outputs": [],
   "source": [
    "from lib.TaxiEnv import TaxiEnv\n",
    "import numpy as np\n",
    "from time import time\n",
    "from lib.utilities import getInverseAction,renderStates\n",
    "env = TaxiEnv()\n",
    "env.print = False"
   ]
  },
  {
   "cell_type": "code",
   "execution_count": 29,
   "metadata": {},
   "outputs": [],
   "source": [
    "def dfs (env, start, maxDepth = 15 ,moreResults = False):\n",
    "    #for k in range(env.allStatesCount):\n",
    "    statesTisTurn = []\n",
    "\n",
    "    statesTisTurn.append(start)\n",
    "    states = {}\n",
    "    genericMaskLen = len(env.getLastActionMask())\n",
    "    gotResult = False\n",
    "    goThrough = False\n",
    "    onBoard = False\n",
    "    done = False\n",
    "    solDepth = float(\"inf\")\n",
    "    finalPath = []\n",
    "    pickupState = [] \n",
    "    stuckCounter = 0\n",
    "    #For every pre-fetched actions\n",
    "    while not gotResult:\n",
    "        #print(statesTisTurn)\n",
    "        #print(\"\")\n",
    "\n",
    "        #If we are stuck in this cycle\n",
    "        if(stuckCounter > 3):\n",
    "            return None\n",
    "\n",
    "        while len(statesTisTurn) > 0:\n",
    "        \n",
    "            i = statesTisTurn.pop()\n",
    "            #print(i,end=\",\")\n",
    "            state, actionMask = env.setState(i, True)\n",
    "            if not (state in states):\n",
    "                states[state] = [False,0,[]]\n",
    "            #If we got to the max depth, end this turn\n",
    "\n",
    "            # print(\"----------------\")\n",
    "            # print(states)\n",
    "            # print(state)\n",
    "            if(states[state][1] > maxDepth or states[state][1] > solDepth):\n",
    "                continue\n",
    "            \n",
    "            # For each action:\n",
    "            for actionId in range(genericMaskLen):        \n",
    "                #If action is not viable skip\n",
    "                if(actionMask[actionId]) == 0:\n",
    "                    continue\n",
    "                #Else :\n",
    "                #Set the previous state:\n",
    "                env.setState(i)\n",
    "                #Make a move\n",
    "                nxtState, rew, done ,_,_ = env.move(actionId)\n",
    "                #If the action was \"pickup\" - start from here next itteration\n",
    "                if(actionId == 4):\n",
    "                    # statesTisTurn = []\n",
    "                    # statesNextTurn = []\n",
    "                    pickupState = nxtState\n",
    "                    #Reset current Depth:\n",
    "\n",
    "                    solDepth = states[state][1]+1\n",
    "                    #states[state][1] = 0\n",
    "                    \n",
    "                    #onBoard = True\n",
    "                    #statesNextTurn = [nxtState]\n",
    "                #If I am done - return with the path\n",
    "                if(done):\n",
    "                    print(2)\n",
    "                    finalPath = states[state].copy()\n",
    "                    finalPath[2].append(state)\n",
    "                    finalPath[2].append(nxtState)\n",
    "                    gotResult = True\n",
    "                    break\n",
    "                #If we have the passenger onboard but the action doesn't make it \"done\" - end\n",
    "                elif(actionId == 5):\n",
    "                    continue\n",
    "                #If next state hasn't been checked - add an empty array\n",
    "                if not (nxtState in states):\n",
    "                    states[nxtState] = [False,0,[]]\n",
    "                    goThrough = True\n",
    "                #If the nextState hasn't been searched or shorter path has been found\n",
    "                if goThrough or onBoard != states[nxtState][0]  or (len(states[nxtState][2]) > len(states[state][2])+1 ) :\n",
    "                    goThrough = False\n",
    "                    #print(rew)\n",
    "                    states[nxtState][2] = states[state][2].copy()\n",
    "                    states[nxtState][2].append(state)\n",
    "                    states[nxtState][1] = states[state][1]+1\n",
    "                    states[nxtState][0] = onBoard\n",
    "                    statesTisTurn.append(nxtState)\n",
    "                #else:\n",
    "                    #print(\"Not updated - \" + str(nxtState) + \" from state \" + str(state))\n",
    "        else:\n",
    "            #print(\"yes\")\n",
    "            #break\n",
    "            #statesTisTurn = statesNextTurn.copy()\n",
    "            #print(statesNextTurn)q\n",
    "            onBoard = True\n",
    "            solDepth = float(\"inf\")\n",
    "            statesTisTurn = [pickupState]\n",
    "            states[pickupState][1] = 0\n",
    "        stuckCounter += 1\n",
    "\n",
    "    \n",
    "    if(moreResults):    \n",
    "        return finalPath\n",
    "    return finalPath[2]               \n"
   ]
  },
  {
   "cell_type": "code",
   "execution_count": 3,
   "metadata": {},
   "outputs": [],
   "source": [
    "# env.setState(137)\n",
    "# env.printCurState()"
   ]
  },
  {
   "cell_type": "code",
   "execution_count": 8,
   "metadata": {},
   "outputs": [
    {
     "ename": "TypeError",
     "evalue": "'int' object is not subscriptable",
     "output_type": "error",
     "traceback": [
      "\u001b[0;31m---------------------------------------------------------------------------\u001b[0m",
      "\u001b[0;31mTypeError\u001b[0m                                 Traceback (most recent call last)",
      "\u001b[1;32m/home/sipekd/Desktop/ReinforcementLearning/DFS3.ipynb Cell 4\u001b[0m line \u001b[0;36m1\n\u001b[0;32m----> <a href='vscode-notebook-cell:/home/sipekd/Desktop/ReinforcementLearning/DFS3.ipynb#X13sZmlsZQ%3D%3D?line=0'>1</a>\u001b[0m dfs(env,\u001b[39m8\u001b[39;49m)\n",
      "\u001b[1;32m/home/sipekd/Desktop/ReinforcementLearning/DFS3.ipynb Cell 4\u001b[0m line \u001b[0;36m3\n\u001b[1;32m     <a href='vscode-notebook-cell:/home/sipekd/Desktop/ReinforcementLearning/DFS3.ipynb#X13sZmlsZQ%3D%3D?line=28'>29</a>\u001b[0m     states[state] \u001b[39m=\u001b[39m [\u001b[39mFalse\u001b[39;00m,\u001b[39m0\u001b[39m,[]]\n\u001b[1;32m     <a href='vscode-notebook-cell:/home/sipekd/Desktop/ReinforcementLearning/DFS3.ipynb#X13sZmlsZQ%3D%3D?line=29'>30</a>\u001b[0m \u001b[39m#If we got to the max depth, end this turn\u001b[39;00m\n\u001b[0;32m---> <a href='vscode-notebook-cell:/home/sipekd/Desktop/ReinforcementLearning/DFS3.ipynb#X13sZmlsZQ%3D%3D?line=30'>31</a>\u001b[0m \u001b[39mif\u001b[39;00m(states[state][\u001b[39m1\u001b[39m] \u001b[39m>\u001b[39m maxDepth \u001b[39mor\u001b[39;00m state[state][\u001b[39m1\u001b[39m] \u001b[39m>\u001b[39m solDepth):\n\u001b[1;32m     <a href='vscode-notebook-cell:/home/sipekd/Desktop/ReinforcementLearning/DFS3.ipynb#X13sZmlsZQ%3D%3D?line=31'>32</a>\u001b[0m     \u001b[39mcontinue\u001b[39;00m\n\u001b[1;32m     <a href='vscode-notebook-cell:/home/sipekd/Desktop/ReinforcementLearning/DFS3.ipynb#X13sZmlsZQ%3D%3D?line=33'>34</a>\u001b[0m \u001b[39m# For each action:\u001b[39;00m\n",
      "\u001b[0;31mTypeError\u001b[0m: 'int' object is not subscriptable"
     ]
    }
   ],
   "source": [
    "dfs(env,8)"
   ]
  },
  {
   "cell_type": "code",
   "execution_count": 22,
   "metadata": {},
   "outputs": [
    {
     "name": "stderr",
     "output_type": "stream",
     "text": [
      "/home/sipekd/anaconda3/envs/bp/lib/python3.12/site-packages/gymnasium/core.py:311: UserWarning: \u001b[33mWARN: env.P to get variables from other wrappers is deprecated and will be removed in v1.0, to get this variable you can do `env.unwrapped.P` for environment variables or `env.get_wrapper_attr('P')` that will search the reminding wrappers.\u001b[0m\n",
      "  logger.warn(\n",
      "/home/sipekd/anaconda3/envs/bp/lib/python3.12/site-packages/gymnasium/core.py:311: UserWarning: \u001b[33mWARN: env.action_mask to get variables from other wrappers is deprecated and will be removed in v1.0, to get this variable you can do `env.unwrapped.action_mask` for environment variables or `env.get_wrapper_attr('action_mask')` that will search the reminding wrappers.\u001b[0m\n",
      "  logger.warn(\n"
     ]
    },
    {
     "name": "stdout",
     "output_type": "stream",
     "text": [
      "2\n",
      "2\n",
      "2\n",
      "[0, 16, 116, 16, 0]\n",
      "2\n",
      "2\n",
      "[1, 17, 37, 137, 237, 257, 277, 177, 77, 97, 85]\n",
      "2\n",
      "2\n",
      "[2, 18, 118, 218, 318, 418, 410]\n",
      "2\n",
      "2\n",
      "[3, 19, 39, 139, 239, 259, 279, 379, 479, 475]\n"
     ]
    },
    {
     "ename": "KeyboardInterrupt",
     "evalue": "",
     "output_type": "error",
     "traceback": [
      "\u001b[0;31m---------------------------------------------------------------------------\u001b[0m",
      "\u001b[0;31mKeyboardInterrupt\u001b[0m                         Traceback (most recent call last)",
      "\u001b[1;32m/home/sipekd/Desktop/ReinforcementLearning/DFS3.ipynb Cell 5\u001b[0m line \u001b[0;36m6\n\u001b[1;32m      <a href='vscode-notebook-cell:/home/sipekd/Desktop/ReinforcementLearning/DFS3.ipynb#X10sZmlsZQ%3D%3D?line=2'>3</a>\u001b[0m env \u001b[39m=\u001b[39m TaxiEnv()\n\u001b[1;32m      <a href='vscode-notebook-cell:/home/sipekd/Desktop/ReinforcementLearning/DFS3.ipynb#X10sZmlsZQ%3D%3D?line=3'>4</a>\u001b[0m env\u001b[39m.\u001b[39mprint \u001b[39m=\u001b[39m \u001b[39mFalse\u001b[39;00m\n\u001b[0;32m----> <a href='vscode-notebook-cell:/home/sipekd/Desktop/ReinforcementLearning/DFS3.ipynb#X10sZmlsZQ%3D%3D?line=5'>6</a>\u001b[0m ret \u001b[39m=\u001b[39m dfs(env,i)\n\u001b[1;32m      <a href='vscode-notebook-cell:/home/sipekd/Desktop/ReinforcementLearning/DFS3.ipynb#X10sZmlsZQ%3D%3D?line=6'>7</a>\u001b[0m \u001b[39mprint\u001b[39m(ret)\n\u001b[1;32m      <a href='vscode-notebook-cell:/home/sipekd/Desktop/ReinforcementLearning/DFS3.ipynb#X10sZmlsZQ%3D%3D?line=7'>8</a>\u001b[0m \u001b[39m#renderStates(ret)\u001b[39;00m\n",
      "\u001b[1;32m/home/sipekd/Desktop/ReinforcementLearning/DFS3.ipynb Cell 5\u001b[0m line \u001b[0;36m4\n\u001b[1;32m     <a href='vscode-notebook-cell:/home/sipekd/Desktop/ReinforcementLearning/DFS3.ipynb#X10sZmlsZQ%3D%3D?line=44'>45</a>\u001b[0m env\u001b[39m.\u001b[39msetState(i)\n\u001b[1;32m     <a href='vscode-notebook-cell:/home/sipekd/Desktop/ReinforcementLearning/DFS3.ipynb#X10sZmlsZQ%3D%3D?line=45'>46</a>\u001b[0m \u001b[39m#Make a move\u001b[39;00m\n\u001b[0;32m---> <a href='vscode-notebook-cell:/home/sipekd/Desktop/ReinforcementLearning/DFS3.ipynb#X10sZmlsZQ%3D%3D?line=46'>47</a>\u001b[0m nxtState, rew, done ,_,_ \u001b[39m=\u001b[39m env\u001b[39m.\u001b[39;49mmove(actionId)\n\u001b[1;32m     <a href='vscode-notebook-cell:/home/sipekd/Desktop/ReinforcementLearning/DFS3.ipynb#X10sZmlsZQ%3D%3D?line=47'>48</a>\u001b[0m \u001b[39m#If the action was \"pickup\" - start from here next itteration\u001b[39;00m\n\u001b[1;32m     <a href='vscode-notebook-cell:/home/sipekd/Desktop/ReinforcementLearning/DFS3.ipynb#X10sZmlsZQ%3D%3D?line=48'>49</a>\u001b[0m \u001b[39mif\u001b[39;00m(actionId \u001b[39m==\u001b[39m \u001b[39m4\u001b[39m):\n\u001b[1;32m     <a href='vscode-notebook-cell:/home/sipekd/Desktop/ReinforcementLearning/DFS3.ipynb#X10sZmlsZQ%3D%3D?line=49'>50</a>\u001b[0m     \u001b[39m# statesTisTurn = []\u001b[39;00m\n\u001b[1;32m     <a href='vscode-notebook-cell:/home/sipekd/Desktop/ReinforcementLearning/DFS3.ipynb#X10sZmlsZQ%3D%3D?line=50'>51</a>\u001b[0m     \u001b[39m# statesNextTurn = []\u001b[39;00m\n",
      "File \u001b[0;32m~/Desktop/ReinforcementLearning/lib/TaxiEnv.py:51\u001b[0m, in \u001b[0;36mTaxiEnv.move\u001b[0;34m(self, action)\u001b[0m\n\u001b[1;32m     49\u001b[0m \u001b[39mdef\u001b[39;00m \u001b[39mmove\u001b[39m(\u001b[39mself\u001b[39m,action):\n\u001b[1;32m     50\u001b[0m     \u001b[39mself\u001b[39m\u001b[39m.\u001b[39mactionCount \u001b[39m+\u001b[39m\u001b[39m=\u001b[39m \u001b[39m1\u001b[39m\n\u001b[0;32m---> 51\u001b[0m     (next_state, reward, done, info1, info2) \u001b[39m=\u001b[39m \u001b[39mself\u001b[39;49m\u001b[39m.\u001b[39;49menv\u001b[39m.\u001b[39;49mstep(action)\n\u001b[1;32m     52\u001b[0m     \u001b[39mif\u001b[39;00m(reward \u001b[39m==\u001b[39m \u001b[39m-\u001b[39m\u001b[39m10\u001b[39m):\n\u001b[1;32m     53\u001b[0m         \u001b[39mself\u001b[39m\u001b[39m.\u001b[39mpenalties \u001b[39m+\u001b[39m\u001b[39m=\u001b[39m \u001b[39m1\u001b[39m\n",
      "File \u001b[0;32m~/anaconda3/envs/bp/lib/python3.12/site-packages/gymnasium/wrappers/order_enforcing.py:56\u001b[0m, in \u001b[0;36mOrderEnforcing.step\u001b[0;34m(self, action)\u001b[0m\n\u001b[1;32m     54\u001b[0m \u001b[39mif\u001b[39;00m \u001b[39mnot\u001b[39;00m \u001b[39mself\u001b[39m\u001b[39m.\u001b[39m_has_reset:\n\u001b[1;32m     55\u001b[0m     \u001b[39mraise\u001b[39;00m ResetNeeded(\u001b[39m\"\u001b[39m\u001b[39mCannot call env.step() before calling env.reset()\u001b[39m\u001b[39m\"\u001b[39m)\n\u001b[0;32m---> 56\u001b[0m \u001b[39mreturn\u001b[39;00m \u001b[39mself\u001b[39;49m\u001b[39m.\u001b[39;49menv\u001b[39m.\u001b[39;49mstep(action)\n",
      "File \u001b[0;32m~/anaconda3/envs/bp/lib/python3.12/site-packages/gymnasium/wrappers/env_checker.py:51\u001b[0m, in \u001b[0;36mPassiveEnvChecker.step\u001b[0;34m(self, action)\u001b[0m\n\u001b[1;32m     49\u001b[0m     \u001b[39mreturn\u001b[39;00m env_step_passive_checker(\u001b[39mself\u001b[39m\u001b[39m.\u001b[39menv, action)\n\u001b[1;32m     50\u001b[0m \u001b[39melse\u001b[39;00m:\n\u001b[0;32m---> 51\u001b[0m     \u001b[39mreturn\u001b[39;00m \u001b[39mself\u001b[39;49m\u001b[39m.\u001b[39;49menv\u001b[39m.\u001b[39;49mstep(action)\n",
      "File \u001b[0;32m~/anaconda3/envs/bp/lib/python3.12/site-packages/gymnasium/envs/toy_text/taxi.py:294\u001b[0m, in \u001b[0;36mTaxiEnv.step\u001b[0;34m(self, a)\u001b[0m\n\u001b[1;32m    292\u001b[0m \u001b[39mif\u001b[39;00m \u001b[39mself\u001b[39m\u001b[39m.\u001b[39mrender_mode \u001b[39m==\u001b[39m \u001b[39m\"\u001b[39m\u001b[39mhuman\u001b[39m\u001b[39m\"\u001b[39m:\n\u001b[1;32m    293\u001b[0m     \u001b[39mself\u001b[39m\u001b[39m.\u001b[39mrender()\n\u001b[0;32m--> 294\u001b[0m \u001b[39mreturn\u001b[39;00m (\u001b[39mint\u001b[39;49m(s), r, t, \u001b[39mFalse\u001b[39;00m, {\u001b[39m\"\u001b[39m\u001b[39mprob\u001b[39m\u001b[39m\"\u001b[39m: p, \u001b[39m\"\u001b[39m\u001b[39maction_mask\u001b[39m\u001b[39m\"\u001b[39m: \u001b[39mself\u001b[39m\u001b[39m.\u001b[39maction_mask(s)})\n",
      "\u001b[0;31mKeyboardInterrupt\u001b[0m: "
     ]
    }
   ],
   "source": [
    "from time import sleep\n",
    "for i in range(500):\n",
    "    env = TaxiEnv()\n",
    "    env.print = False\n",
    "    \n",
    "    ret = dfs(env,i)\n",
    "    print(ret)\n",
    "    #renderStates(ret)\n",
    "    sleep(2)"
   ]
  },
  {
   "cell_type": "code",
   "execution_count": 30,
   "metadata": {},
   "outputs": [
    {
     "name": "stdout",
     "output_type": "stream",
     "text": [
      "+---------+\n",
      "|\u001b[35m\u001b[34;1m\u001b[43mR\u001b[0m\u001b[0m\u001b[0m: | : :G|\n",
      "| : | : : |\n",
      "| : : : : |\n",
      "| | : | : |\n",
      "|Y| : |B: |\n",
      "+---------+\n",
      "\n",
      "\n"
     ]
    }
   ],
   "source": [
    "renderStates(dfs(env,4))"
   ]
  },
  {
   "cell_type": "code",
   "execution_count": 27,
   "metadata": {},
   "outputs": [
    {
     "name": "stdout",
     "output_type": "stream",
     "text": [
      "+---------+\n",
      "|\u001b[35m\u001b[43mR\u001b[0m\u001b[0m: | : :\u001b[34;1mG\u001b[0m|\n",
      "| : | : : |\n",
      "| : : : : |\n",
      "| | : | : |\n",
      "|Y| : |B: |\n",
      "+---------+\n",
      "\n",
      "\n"
     ]
    },
    {
     "name": "stderr",
     "output_type": "stream",
     "text": [
      "/home/sipekd/anaconda3/envs/bp/lib/python3.12/site-packages/gymnasium/core.py:311: UserWarning: \u001b[33mWARN: env.P to get variables from other wrappers is deprecated and will be removed in v1.0, to get this variable you can do `env.unwrapped.P` for environment variables or `env.get_wrapper_attr('P')` that will search the reminding wrappers.\u001b[0m\n",
      "  logger.warn(\n",
      "/home/sipekd/anaconda3/envs/bp/lib/python3.12/site-packages/gymnasium/core.py:311: UserWarning: \u001b[33mWARN: env.action_mask to get variables from other wrappers is deprecated and will be removed in v1.0, to get this variable you can do `env.unwrapped.action_mask` for environment variables or `env.get_wrapper_attr('action_mask')` that will search the reminding wrappers.\u001b[0m\n",
      "  logger.warn(\n"
     ]
    }
   ],
   "source": [
    "env.setState(4)\n",
    "env.printCurState()"
   ]
  }
 ],
 "metadata": {
  "kernelspec": {
   "display_name": "bp",
   "language": "python",
   "name": "python3"
  },
  "language_info": {
   "codemirror_mode": {
    "name": "ipython",
    "version": 3
   },
   "file_extension": ".py",
   "mimetype": "text/x-python",
   "name": "python",
   "nbconvert_exporter": "python",
   "pygments_lexer": "ipython3",
   "version": "3.12.0"
  }
 },
 "nbformat": 4,
 "nbformat_minor": 2
}
