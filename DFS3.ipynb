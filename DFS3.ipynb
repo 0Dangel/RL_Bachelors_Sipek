{
 "cells": [
  {
   "cell_type": "code",
   "execution_count": 1,
   "metadata": {},
   "outputs": [],
   "source": [
    "from lib.TaxiEnv import TaxiEnv\n",
    "import numpy as np\n",
    "from time import time\n",
    "from lib.utilities import getInverseAction,renderStates\n",
    "env = TaxiEnv()\n",
    "env.print = False"
   ]
  },
  {
   "cell_type": "code",
   "execution_count": 5,
   "metadata": {},
   "outputs": [],
   "source": [
    "def dfs (env, startState, maxDepth = 15 ,moreResults = False):\n",
    "    errStates = []\n",
    "    #for k in range(env.allStatesCount):\n",
    "    statesTisTurn = []\n",
    "    statesNextTurn = []\n",
    "\n",
    "    statesTisTurn.append(startState)\n",
    "    states = {}\n",
    "    genericMaskLen = len(env.getLastActionMask())\n",
    "    gotResult = False\n",
    "    goThrough = False\n",
    "    onBoard = False\n",
    "    done = False\n",
    "\n",
    "    finalPath = []\n",
    "    #For every pre-fetched actions\n",
    "    while not gotResult:\n",
    "        #print(statesTisTurn)\n",
    "        #print(\"\")\n",
    "\n",
    "        while len(statesTisTurn) > 0:\n",
    "        \n",
    "            i = statesTisTurn.pop()\n",
    "            #print(i,end=\",\")\n",
    "            state, actionMask = env.setState(i, True)\n",
    "            if not (state in states):\n",
    "                states[state] = [False,0,[]]\n",
    "            #If we got to the max depth, end this turn\n",
    "            if(states[state][1] > maxDepth):\n",
    "                continue\n",
    "            # For each action:\n",
    "            for actionId in range(genericMaskLen):        \n",
    "                #If action is not viable skip\n",
    "                if(actionMask[actionId]) == 0:\n",
    "                    continue\n",
    "                #Else :\n",
    "                #Set the previous state:\n",
    "                env.setState(i)\n",
    "                #Make a move\n",
    "                nxtState, rew, done ,_,_ = env.move(actionId)\n",
    "                #If the action was \"pickup\" - start from here next itteration\n",
    "                if(actionId == 4):\n",
    "                    statesTisTurn = []\n",
    "                    statesNextTurn = []\n",
    "                    #Reset current Depth:\n",
    "                    states[state][1] = 0\n",
    "                    onBoard = True\n",
    "                    #statesNextTurn = [nxtState]\n",
    "                #If I am done - return with the path\n",
    "                if(done):\n",
    "                    print(2)\n",
    "                    finalPath = states[state].copy()\n",
    "                    finalPath[2].append(state)\n",
    "                    finalPath[2].append(nxtState)\n",
    "                    gotResult = True\n",
    "                    break\n",
    "                #If we have the passenger onboard but the action doesn't make it \"done\" - end\n",
    "                elif(actionId == 5):\n",
    "                    continue\n",
    "                #If next state hasn't been checked - add an empty array\n",
    "                if not (nxtState in states):\n",
    "                    states[nxtState] = [False,0,[]]\n",
    "                    goThrough = True\n",
    "                #If the nextState hasn't been searched or shorter path has been found\n",
    "                if goThrough or onBoard != states[nxtState][0]  or (len(states[nxtState][2]) > len(states[state][2])+1 ) :\n",
    "                    goThrough = False\n",
    "                    #print(rew)\n",
    "                    states[nxtState][2] = states[state][2].copy()\n",
    "                    states[nxtState][2].append(state)\n",
    "                    states[nxtState][1] = states[state][1]+1\n",
    "                    states[nxtState][0] = onBoard\n",
    "                    statesTisTurn.append(nxtState)\n",
    "                #else:\n",
    "                    #print(\"Not updated - \" + str(nxtState) + \" from state \" + str(state))\n",
    "        else:\n",
    "            #print(\"yes\")\n",
    "            #break\n",
    "            statesTisTurn = statesNextTurn.copy()\n",
    "            #print(statesNextTurn)\n",
    "            statesNextTurn = []\n",
    "    if(moreResults):\n",
    "        return finalPath\n",
    "    return finalPath[2]               \n"
   ]
  },
  {
   "cell_type": "code",
   "execution_count": 3,
   "metadata": {},
   "outputs": [],
   "source": [
    "# env.setState(137)\n",
    "# env.printCurState()"
   ]
  },
  {
   "cell_type": "code",
   "execution_count": 6,
   "metadata": {},
   "outputs": [
    {
     "name": "stdout",
     "output_type": "stream",
     "text": [
      "2\n",
      "[0, 16, 0]\n",
      "2\n",
      "2\n",
      "[1, 17, 37, 137, 237, 257, 277, 177, 77, 97, 85]\n",
      "2\n",
      "2\n",
      "[2, 18, 118, 218, 318, 418, 410]\n",
      "2\n",
      "2\n",
      "[3, 19, 39, 139, 239, 259, 279, 379, 479, 475]\n",
      "2\n",
      "2\n",
      "[4, 24, 124, 224, 244, 264, 284, 184, 84, 96, 76, 56, 156, 256, 236, 136, 36, 16, 0]\n"
     ]
    },
    {
     "ename": "KeyboardInterrupt",
     "evalue": "",
     "output_type": "error",
     "traceback": [
      "\u001b[0;31m---------------------------------------------------------------------------\u001b[0m",
      "\u001b[0;31mKeyboardInterrupt\u001b[0m                         Traceback (most recent call last)",
      "\u001b[1;32m/home/sipekd/Desktop/ReinforcementLearning/DFS3.ipynb Cell 4\u001b[0m line \u001b[0;36m9\n\u001b[1;32m      <a href='vscode-notebook-cell:/home/sipekd/Desktop/ReinforcementLearning/DFS3.ipynb#X10sZmlsZQ%3D%3D?line=6'>7</a>\u001b[0m \u001b[39mprint\u001b[39m(ret)\n\u001b[1;32m      <a href='vscode-notebook-cell:/home/sipekd/Desktop/ReinforcementLearning/DFS3.ipynb#X10sZmlsZQ%3D%3D?line=7'>8</a>\u001b[0m \u001b[39m#renderStates(ret)\u001b[39;00m\n\u001b[0;32m----> <a href='vscode-notebook-cell:/home/sipekd/Desktop/ReinforcementLearning/DFS3.ipynb#X10sZmlsZQ%3D%3D?line=8'>9</a>\u001b[0m sleep(\u001b[39m2\u001b[39;49m)\n",
      "\u001b[0;31mKeyboardInterrupt\u001b[0m: "
     ]
    }
   ],
   "source": [
    "from time import sleep\n",
    "for i in range(500):\n",
    "    env = TaxiEnv()\n",
    "    env.print = False\n",
    "    \n",
    "    ret = dfs(env,i)\n",
    "    print(ret)\n",
    "    #renderStates(ret)\n",
    "    sleep(2)"
   ]
  },
  {
   "cell_type": "code",
   "execution_count": 7,
   "metadata": {},
   "outputs": [
    {
     "name": "stdout",
     "output_type": "stream",
     "text": [
      "+---------+\n",
      "|\u001b[35m\u001b[34;1m\u001b[43mR\u001b[0m\u001b[0m\u001b[0m: | : :G|\n",
      "| : | : : |\n",
      "| : : : : |\n",
      "| | : | : |\n",
      "|Y| : |B: |\n",
      "+---------+\n",
      "\n",
      "\n"
     ]
    }
   ],
   "source": [
    "renderStates(ret)"
   ]
  }
 ],
 "metadata": {
  "kernelspec": {
   "display_name": "bp",
   "language": "python",
   "name": "python3"
  },
  "language_info": {
   "codemirror_mode": {
    "name": "ipython",
    "version": 3
   },
   "file_extension": ".py",
   "mimetype": "text/x-python",
   "name": "python",
   "nbconvert_exporter": "python",
   "pygments_lexer": "ipython3",
   "version": "3.12.0"
  }
 },
 "nbformat": 4,
 "nbformat_minor": 2
}
