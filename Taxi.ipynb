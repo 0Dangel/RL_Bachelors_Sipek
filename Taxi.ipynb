{
 "cells": [
  {
   "cell_type": "markdown",
   "metadata": {},
   "source": []
  },
  {
   "cell_type": "code",
   "execution_count": 1,
   "metadata": {},
   "outputs": [
    {
     "data": {
      "text/plain": [
       "(442, {'prob': 1.0, 'action_mask': array([0, 1, 0, 1, 0, 0], dtype=int8)})"
      ]
     },
     "execution_count": 1,
     "metadata": {},
     "output_type": "execute_result"
    }
   ],
   "source": [
    "import gymnasium as gym\n",
    "import time\n",
    "from IPython.display import clear_output\n",
    "\n",
    "env = gym.make(\"Taxi-v3\", render_mode=\"ansi\").env\n",
    "env.reset()"
   ]
  },
  {
   "cell_type": "code",
   "execution_count": 2,
   "metadata": {},
   "outputs": [],
   "source": [
    "def count(policy):\n",
    "    curr_state = env.reset()[0]\n",
    "    counter = 0\n",
    "    reward = None\n",
    "    while reward != 20:\n",
    "        state, reward, done, info1, info2 = env.step(np.argmax(policy[curr_state]))  \n",
    "        curr_state = state\n",
    "        counter += 1\n",
    "    return counter"
   ]
  },
  {
   "cell_type": "code",
   "execution_count": 3,
   "metadata": {},
   "outputs": [
    {
     "name": "stdout",
     "output_type": "stream",
     "text": [
      "+---------+\n",
      "|R: | : :\u001b[35mG\u001b[0m|\n",
      "| : | : : |\n",
      "| : : : : |\n",
      "| | :\u001b[43m \u001b[0m| : |\n",
      "|\u001b[34;1mY\u001b[0m| : |B: |\n",
      "+---------+\n",
      "\n",
      "\n"
     ]
    }
   ],
   "source": [
    "\n",
    "env.s = 122\n",
    "s=env.render()\n",
    "print(s) #Yes.. really... this is needed, VS-Code addon for Jupyter NTB just doesn't format its output by itself"
   ]
  },
  {
   "cell_type": "code",
   "execution_count": 4,
   "metadata": {},
   "outputs": [
    {
     "name": "stdout",
     "output_type": "stream",
     "text": [
      "(329, -1, False, False, {'prob': 1.0, 'action_mask': array([1, 1, 1, 0, 0, 0], dtype=int8)})\n"
     ]
    },
    {
     "data": {
      "text/plain": [
       "{0: [(1.0, 400, -1, False)],\n",
       " 1: [(1.0, 200, -1, False)],\n",
       " 2: [(1.0, 300, -1, False)],\n",
       " 3: [(1.0, 300, -1, False)],\n",
       " 4: [(1.0, 300, -10, False)],\n",
       " 5: [(1.0, 300, -10, False)]}"
      ]
     },
     "execution_count": 4,
     "metadata": {},
     "output_type": "execute_result"
    }
   ],
   "source": [
    "print(env.step(3))\n",
    "\n",
    "#The function (env.P) below can be used to see the relevant states and rewards for each action taken in that particular state.\n",
    "env.env.P[300]\n"
   ]
  },
  {
   "cell_type": "code",
   "execution_count": 5,
   "metadata": {},
   "outputs": [],
   "source": [
    "import numpy as np\n",
    "import random\n",
    "\n",
    "def Q_learning_train(env,alpha,gamma,epsilon,episodes,verbose = True): \n",
    "    all_epochs = []\n",
    "    all_penalties = []\n",
    "    q_table = np.zeros([env.observation_space.n, env.action_space.n])\n",
    "\n",
    "\n",
    "    #print(env.env)\n",
    "    #return\n",
    "    for i in range(1, episodes+1):\n",
    "        state = env.reset()[0]\n",
    "        #print(state)\n",
    "\n",
    "        epochs, penalties, reward = 0,0,0\n",
    "\n",
    "        done = False\n",
    "\n",
    "        while not done:\n",
    "            if random.uniform(0,1) < epsilon:\n",
    "                \n",
    "                action = env.action_space.sample()\n",
    "            else:\n",
    "                #print(state)\n",
    "                action = np.argmax(q_table[state])\n",
    "                \n",
    "\n",
    "            #print(env.step(action))\n",
    "            (next_state, reward, done, info1, info2) = env.step(action)\n",
    "\n",
    "            old_value = q_table[state,action]\n",
    "            next_max = np.max(q_table[next_state])\n",
    "\n",
    "            new_value = (1-alpha) * old_value+alpha*(reward+gamma*next_max)\n",
    "            #Alpha - jak moc měníme váhy jednotlivých hodnot při každé iteraci - learning rate\n",
    "            #               (u transformerů např se často jedná o základní hodnotu 5e-5 a pomalu se zmenšuje - optimalizace konvergence na gradientu)\n",
    "            #Gamma - přidává snahu o optimalizaci a dosažení výsledku v co nejméně krocích - úspěch za 2 kroky má menší prio / váhu než úspěch za 1 krok\n",
    "            #Epsilon - kolik % průchodů má být průzkumných (preference průzkumu vs navigace známým směrem)\n",
    "\n",
    "            q_table[state, action] = new_value\n",
    "\n",
    "            if reward == -10:\n",
    "                penalties +=1\n",
    "\n",
    "            state = next_state\n",
    "            epochs += 1\n",
    "        if(verbose):\n",
    "            if i % 1000 ==0:\n",
    "                clear_output(wait=True)\n",
    "                print(f\"Episode: {i}\")\n",
    "\n",
    "    #env.env.nS - number of states\n",
    "    #env.env.nA - number of Actions\n",
    "    #policy = np.ones([env.env.nS, env.env.nA]) / env.env.nA\n",
    "    policy = np.ones([env.observation_space.n,env.action_space.n]) / env.action_space.n\n",
    "    for state in range(env.observation_space.n):  #for each states\n",
    "        best_act = np.argmax(q_table[state]) #find best action\n",
    "        policy[state] = np.eye(env.action_space.n)[best_act]  #update \n",
    "        \n",
    "    print(\"Training finished.\\n\")\n",
    "    return policy, q_table\n"
   ]
  },
  {
   "cell_type": "code",
   "execution_count": null,
   "metadata": {},
   "outputs": [
    {
     "name": "stdout",
     "output_type": "stream",
     "text": [
      "[[1. 0. 0. 0. 0. 0.]\n",
      " [0. 0. 0. 0. 1. 0.]\n",
      " [0. 0. 0. 0. 1. 0.]\n",
      " ...\n",
      " [0. 0. 0. 1. 0. 0.]\n",
      " [0. 0. 0. 1. 0. 0.]\n",
      " [0. 0. 0. 1. 0. 0.]]\n"
     ]
    }
   ],
   "source": [
    "#print(Q_learn_pol[0])\n",
    "# print(env.action_space,env.observation_space)\n",
    "# print(env.action_space.n,env.observation_space.n)"
   ]
  },
  {
   "cell_type": "code",
   "execution_count": 8,
   "metadata": {},
   "outputs": [
    {
     "ename": "KeyboardInterrupt",
     "evalue": "",
     "output_type": "error",
     "traceback": [
      "\u001b[0;31m---------------------------------------------------------------------------\u001b[0m",
      "\u001b[0;31mKeyboardInterrupt\u001b[0m                         Traceback (most recent call last)",
      "\u001b[1;32m/home/sipekd/Desktop/ReinforcementLearning/Taxi.ipynb Cell 8\u001b[0m line \u001b[0;36m9\n\u001b[1;32m      <a href='vscode-notebook-cell:/home/sipekd/Desktop/ReinforcementLearning/Taxi.ipynb#X11sZmlsZQ%3D%3D?line=6'>7</a>\u001b[0m env \u001b[39m=\u001b[39m gym\u001b[39m.\u001b[39mmake(\u001b[39m\"\u001b[39m\u001b[39mTaxi-v3\u001b[39m\u001b[39m\"\u001b[39m, render_mode\u001b[39m=\u001b[39m\u001b[39m\"\u001b[39m\u001b[39mansi\u001b[39m\u001b[39m\"\u001b[39m)\u001b[39m.\u001b[39menv\n\u001b[1;32m      <a href='vscode-notebook-cell:/home/sipekd/Desktop/ReinforcementLearning/Taxi.ipynb#X11sZmlsZQ%3D%3D?line=7'>8</a>\u001b[0m env\u001b[39m.\u001b[39mreset() \n\u001b[0;32m----> <a href='vscode-notebook-cell:/home/sipekd/Desktop/ReinforcementLearning/Taxi.ipynb#X11sZmlsZQ%3D%3D?line=8'>9</a>\u001b[0m Q_learn_pol \u001b[39m=\u001b[39m Q_learning_train(env,\u001b[39m0.1\u001b[39;49m\u001b[39m*\u001b[39;49mi,\u001b[39m0.15\u001b[39;49m \u001b[39m+\u001b[39;49m j\u001b[39m*\u001b[39;49m\u001b[39m0.2\u001b[39;49m,\u001b[39m0.1\u001b[39;49m\u001b[39m*\u001b[39;49mk,\u001b[39m100000\u001b[39;49m)\n\u001b[1;32m     <a href='vscode-notebook-cell:/home/sipekd/Desktop/ReinforcementLearning/Taxi.ipynb#X11sZmlsZQ%3D%3D?line=10'>11</a>\u001b[0m Q_Learning_counts \u001b[39m=\u001b[39m count(Q_learn_pol[\u001b[39m0\u001b[39m])\n\u001b[1;32m     <a href='vscode-notebook-cell:/home/sipekd/Desktop/ReinforcementLearning/Taxi.ipynb#X11sZmlsZQ%3D%3D?line=11'>12</a>\u001b[0m Q_counts \u001b[39m=\u001b[39m [count(Q_learn_pol[\u001b[39m0\u001b[39m]) \u001b[39mfor\u001b[39;00m i \u001b[39min\u001b[39;00m \u001b[39mrange\u001b[39m(\u001b[39m1000\u001b[39m)]\n",
      "\u001b[1;32m/home/sipekd/Desktop/ReinforcementLearning/Taxi.ipynb Cell 8\u001b[0m line \u001b[0;36m3\n\u001b[1;32m     <a href='vscode-notebook-cell:/home/sipekd/Desktop/ReinforcementLearning/Taxi.ipynb#X11sZmlsZQ%3D%3D?line=28'>29</a>\u001b[0m (next_state, reward, done, info1, info2) \u001b[39m=\u001b[39m env\u001b[39m.\u001b[39mstep(action)\n\u001b[1;32m     <a href='vscode-notebook-cell:/home/sipekd/Desktop/ReinforcementLearning/Taxi.ipynb#X11sZmlsZQ%3D%3D?line=30'>31</a>\u001b[0m old_value \u001b[39m=\u001b[39m q_table[state,action]\n\u001b[0;32m---> <a href='vscode-notebook-cell:/home/sipekd/Desktop/ReinforcementLearning/Taxi.ipynb#X11sZmlsZQ%3D%3D?line=31'>32</a>\u001b[0m next_max \u001b[39m=\u001b[39m np\u001b[39m.\u001b[39;49mmax(q_table[next_state])\n\u001b[1;32m     <a href='vscode-notebook-cell:/home/sipekd/Desktop/ReinforcementLearning/Taxi.ipynb#X11sZmlsZQ%3D%3D?line=33'>34</a>\u001b[0m new_value \u001b[39m=\u001b[39m (\u001b[39m1\u001b[39m\u001b[39m-\u001b[39malpha) \u001b[39m*\u001b[39m old_value\u001b[39m+\u001b[39malpha\u001b[39m*\u001b[39m(reward\u001b[39m+\u001b[39mgamma\u001b[39m*\u001b[39mnext_max)\n\u001b[1;32m     <a href='vscode-notebook-cell:/home/sipekd/Desktop/ReinforcementLearning/Taxi.ipynb#X11sZmlsZQ%3D%3D?line=34'>35</a>\u001b[0m \u001b[39m#Alpha - jak moc měníme váhy jednotlivých hodnot při každé iteraci - learning rate\u001b[39;00m\n\u001b[1;32m     <a href='vscode-notebook-cell:/home/sipekd/Desktop/ReinforcementLearning/Taxi.ipynb#X11sZmlsZQ%3D%3D?line=35'>36</a>\u001b[0m \u001b[39m#               (u transformerů např se často jedná o základní hodnotu 5e-5 a pomalu se zmenšuje - optimalizace konvergence na gradientu)\u001b[39;00m\n\u001b[1;32m     <a href='vscode-notebook-cell:/home/sipekd/Desktop/ReinforcementLearning/Taxi.ipynb#X11sZmlsZQ%3D%3D?line=36'>37</a>\u001b[0m \u001b[39m#Gamma - přidává snahu o optimalizaci a dosažení výsledku v co nejméně krocích - úspěch za 2 kroky má menší prio / váhu než úspěch za 1 krok\u001b[39;00m\n\u001b[1;32m     <a href='vscode-notebook-cell:/home/sipekd/Desktop/ReinforcementLearning/Taxi.ipynb#X11sZmlsZQ%3D%3D?line=37'>38</a>\u001b[0m \u001b[39m#Epsilon - kolik % průchodů má být průzkumných (preference průzkumu vs navigace známým směrem)\u001b[39;00m\n",
      "File \u001b[0;32m<__array_function__ internals>:180\u001b[0m, in \u001b[0;36mamax\u001b[0;34m(*args, **kwargs)\u001b[0m\n",
      "\u001b[0;31mKeyboardInterrupt\u001b[0m: "
     ]
    }
   ],
   "source": [
    "import seaborn as sns\n",
    "\n",
    "\n",
    "vysledky_i = []\n",
    "\n",
    "\n",
    "\n",
    "for i in range(10):\n",
    "    vysledky_j = []\n",
    "    for j in range(4):\n",
    "        vysledky_k = [] \n",
    "        for k in range(10): \n",
    "            env = gym.make(\"Taxi-v3\", render_mode=\"ansi\").env\n",
    "            env.reset() \n",
    "            Q_learn_pol = Q_learning_train(env,0.1*i,0.15 + j*0.2,0.1*k,100000,False)\n",
    "            vysledky_k.append(Q_learn_pol)\n",
    "            #Q_Learning_counts = count(Q_learn_pol[0])\n",
    "\n",
    "            #Q_counts = [count(Q_learn_pol[0]) for i in range(1000)]\n",
    "            # print(\"An agent using a policy which has been improved using Q-learning takes about an average of \" + str(int(np.mean(Q_counts)))\n",
    "            #     + \" steps to successfully complete its mission.\")\n",
    "            #print(\"Alpha: \"+str(0.1*i) + \";  Gamma:\" + str(0.15 + j*0.2) + \";  Epsilon:\" + str(0.1*k))\n",
    "            #sns.distplot(Q_counts)\n",
    "        vysledky_j.append(vysledky_k)\n",
    "    vysledky_i.append(vysledky_j)"
   ]
  },
  {
   "cell_type": "code",
   "execution_count": 9,
   "metadata": {},
   "outputs": [
    {
     "name": "stdout",
     "output_type": "stream",
     "text": [
      "Episode: 100000\n",
      "Training finished.\n",
      "\n",
      "An agent using a policy which has been improved using Q-learning takes about an average of 13 steps to successfully complete its mission.\n",
      "Alpha: 0.0;  Gamma:0.15;  Epsilon:0.0\n"
     ]
    },
    {
     "name": "stderr",
     "output_type": "stream",
     "text": [
      "/tmp/ipykernel_1042/4045551767.py:10: UserWarning: \n",
      "\n",
      "`distplot` is a deprecated function and will be removed in seaborn v0.14.0.\n",
      "\n",
      "Please adapt your code to use either `displot` (a figure-level function with\n",
      "similar flexibility) or `histplot` (an axes-level function for histograms).\n",
      "\n",
      "For a guide to updating your code to use the new functions, please see\n",
      "https://gist.github.com/mwaskom/de44147ed2974457ad6372750bbe5751\n",
      "\n",
      "  sns.distplot(Q_counts)\n"
     ]
    },
    {
     "data": {
      "text/plain": [
       "<Axes: ylabel='Density'>"
      ]
     },
     "execution_count": 9,
     "metadata": {},
     "output_type": "execute_result"
    },
    {
     "data": {
      "image/png": "[encoded data removed]",
      "text/plain": [
       "<Figure size 640x480 with 1 Axes>"
      ]
     },
     "metadata": {},
     "output_type": "display_data"
    }
   ],
   "source": [
    "env = gym.make(\"Taxi-v3\", render_mode=\"ansi\").env\n",
    "env.reset() \n",
    "Q_learn_pol = Q_learning_train(env,0.2,0.95,0.1,100000)\n",
    "\n",
    "Q_Learning_counts = count(Q_learn_pol[0])\n",
    "Q_counts = [count(Q_learn_pol[0]) for i in range(1000)]\n",
    "print(\"An agent using a policy which has been improved using Q-learning takes about an average of \" + str(int(np.mean(Q_counts)))\n",
    "    + \" steps to successfully complete its mission.\")\n",
    "print(\"Alpha: \"+str(0.1*i) + \";  Gamma:\" + str(0.15 + j*0.2) + \";  Epsilon:\" + str(0.1*k))\n",
    "sns.distplot(Q_counts)"
   ]
  }
 ],
 "metadata": {
  "kernelspec": {
   "display_name": "bat",
   "language": "python",
   "name": "python3"
  },
  "language_info": {
   "codemirror_mode": {
    "name": "ipython",
    "version": 3
   },
   "file_extension": ".py",
   "mimetype": "text/x-python",
   "name": "python",
   "nbconvert_exporter": "python",
   "pygments_lexer": "ipython3",
   "version": "3.11.5"
  },
  "orig_nbformat": 4
 },
 "nbformat": 4,
 "nbformat_minor": 2
}
