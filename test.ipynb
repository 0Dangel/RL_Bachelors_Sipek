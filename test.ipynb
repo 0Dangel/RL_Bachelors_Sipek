{
 "cells": [
  {
   "cell_type": "code",
   "execution_count": 8,
   "metadata": {},
   "outputs": [
    {
     "name": "stdout",
     "output_type": "stream",
     "text": [
      "+---------+\n",
      "|R: | : :G|\n",
      "| : | : : |\n",
      "| : : : : |\n",
      "| | : | : |\n",
      "|\u001b[34;1m\u001b[43mY\u001b[0m\u001b[0m| : |\u001b[35mB\u001b[0m: |\n",
      "+---------+\n",
      "  (South)\n",
      "\n",
      "(411, {'prob': 1.0, 'action_mask': array([0, 1, 0, 0, 1, 0], dtype=int8)})\n",
      "[0 1 0 0 1 0]\n",
      "+---------+\n",
      "|R: | : :G|\n",
      "| : | : : |\n",
      "| : : : : |\n",
      "| | : | : |\n",
      "|\u001b[34;1m\u001b[43mY\u001b[0m\u001b[0m| : |\u001b[35mB\u001b[0m: |\n",
      "+---------+\n",
      "  (South)\n",
      "\n"
     ]
    }
   ],
   "source": [
    "\n",
    "\n",
    "from lib.TaxiEnv import TaxiEnv\n",
    "import numpy as np\n",
    "\n",
    "env = TaxiEnv(True)\n",
    "\n",
    "ActionRow = []\n",
    "StatesRow = []\n",
    "\n",
    "done_states = []\n",
    "\n",
    "distTable = np.ones((5,5))\n",
    "\n",
    "\n",
    "(next_state, reward, done, info1, info2) = env.move(env.getRandomMove())\n",
    "\n",
    "# while(len(ActionRow) > 0):\n",
    "#     print(\"s\")\n",
    "\n",
    "#actionsOrder =  1,2,3,4,5,6 (down, up, right,left,pick up, drop off)\n",
    "\n",
    "print(env.lastState)\n",
    "#env.printCurState()\n",
    "vzdalenosti = np.zeros((600,))\n",
    "\n",
    "print(info2[\"action_mask\"])\n",
    "\n",
    "done = False\n",
    "\n",
    "\n",
    "\n",
    "\n",
    "(next_state, reward, done, info1, info2) = env.move(env.getRandomMove())\n",
    "#action = env.env.action_space.sample(info2[\"action_mask\"])\n",
    "\n",
    "# print(next_state)\n",
    "# print(reward)\n",
    "# print(done)\n",
    "# print(info1)\n",
    "# print(info2)\n",
    "\n",
    "# print(env.getSize())\n",
    "\n",
    "\n",
    "\n",
    "\n",
    "\n",
    "\n",
    "#while not done:\n",
    "\n",
    "\n",
    "#env.move(env.getRandomMove())"
   ]
  },
  {
   "cell_type": "code",
   "execution_count": 23,
   "metadata": {},
   "outputs": [
    {
     "name": "stdout",
     "output_type": "stream",
     "text": [
      "+---------+\n",
      "|R: | : :G|\n",
      "| : | : : |\n",
      "| : : : : |\n",
      "| | : | : |\n",
      "|Y| : |\u001b[35m\u001b[42mB\u001b[0m\u001b[0m: |\n",
      "+---------+\n",
      "  (South)\n",
      "\n"
     ]
    },
    {
     "data": {
      "text/plain": [
       "(479,\n",
       " -1,\n",
       " False,\n",
       " False,\n",
       " {'prob': 1.0, 'action_mask': array([0, 1, 1, 0, 0, 1], dtype=int8)})"
      ]
     },
     "execution_count": 23,
     "metadata": {},
     "output_type": "execute_result"
    }
   ],
   "source": [
    "env.move(0)"
   ]
  },
  {
   "cell_type": "code",
   "execution_count": 16,
   "metadata": {},
   "outputs": [
    {
     "name": "stdout",
     "output_type": "stream",
     "text": [
      "-1\n"
     ]
    }
   ],
   "source": [
    "print(reward)"
   ]
  },
  {
   "cell_type": "code",
   "execution_count": 10,
   "metadata": {},
   "outputs": [
    {
     "name": "stdout",
     "output_type": "stream",
     "text": [
      "[(411, 0, 1), (411, 0, 4)]\n"
     ]
    }
   ],
   "source": [
    "actionMag = []\n",
    "vzdalenost = 0\n",
    "\n",
    "for j in actionMag:\n",
    "    vzdalenost = j[1]\n",
    "    if(vzdalenosti[next_state] == 0):\n",
    "        for i in range(len(info2[\"action_mask\"])):\n",
    "            if (info2[\"action_mask\"][i] == 1):\n",
    "                actionMag.append((next_state,vzdalenost,i))\n",
    "    vzdalenost -= 1 \n",
    "\n",
    "print(actionMag)\n"
   ]
  }
 ],
 "metadata": {
  "kernelspec": {
   "display_name": "bat",
   "language": "python",
   "name": "python3"
  },
  "language_info": {
   "codemirror_mode": {
    "name": "ipython",
    "version": 3
   },
   "file_extension": ".py",
   "mimetype": "text/x-python",
   "name": "python",
   "nbconvert_exporter": "python",
   "pygments_lexer": "ipython3",
   "version": "3.11.5"
  },
  "orig_nbformat": 4
 },
 "nbformat": 4,
 "nbformat_minor": 2
}
