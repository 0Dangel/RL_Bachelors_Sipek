{
 "cells": [
  {
   "cell_type": "code",
   "execution_count": 1,
   "metadata": {},
   "outputs": [
    {
     "name": "stdout",
     "output_type": "stream",
     "text": [
      "['/home/sipekd/Desktop/ReinforcementLearning', '/home/sipekd/Desktop/ReinforcementLearning/mbu', '/home/sipekd/anaconda3/envs/bp/lib/python312.zip', '/home/sipekd/anaconda3/envs/bp/lib/python3.12', '/home/sipekd/anaconda3/envs/bp/lib/python3.12/lib-dynload', '', '/home/sipekd/anaconda3/envs/bp/lib/python3.12/site-packages']\n"
     ]
    }
   ],
   "source": [
    "import gymnasium as gym\n",
    "from time import sleep, time\n",
    "import sys\n",
    "sys.path.insert(0,\"/home/sipekd/Desktop/ReinforcementLearning\")\n",
    "\n",
    "print(sys.path)\n",
    "\n",
    "from IPython.display import clear_output\n",
    "from lib.TaxiEnv import TaxiEnv\n",
    "from lib.utilities import renderStates\n",
    "\n",
    "env = TaxiEnv()\n",
    "\n",
    "def bfs(env, start):\n",
    "    queue = [(start, [start])]\n",
    "    while queue:\n",
    "        state, path = queue.pop(0)\n",
    "        for action in range(env.allActionCount):\n",
    "            env.setState( state)\n",
    "            new_state, reward, done, _, _ = env.step(action)\n",
    "\n",
    "            if done:\n",
    "                #yield path + [new_state]   # this would be to find all possible paths\n",
    "                return path + [new_state]   # return the first one (the shortest one in case of BFS)\n",
    "            elif new_state not in path:\n",
    "                queue.append((new_state, path + [new_state]))\n",
    "\n",
    "\n",
    "def dfs(env, start, maxLength = 20):\n",
    "    # if(maxLength == None):\n",
    "    #     maxLength = \n",
    "    deadWays = []\n",
    "    shortest = float(\"inf\")\n",
    "    queue = [(start, 0, [start])]\n",
    "    returnVal = []\n",
    "    while queue:\n",
    "        state, length, path = queue.pop()\n",
    "        if(length > maxLength or length > shortest):\n",
    "            deadWays.append(state)\n",
    "            continue\n",
    "        for action in range(env.allActionCount):\n",
    "            env.setState(state)\n",
    "            new_state, reward, done, _, _ = env.step(action)\n",
    "\n",
    "            if done and shortest > length:\n",
    "                shortest = length #Update \"Max length to newer number\" \n",
    "                returnVal = path + [new_state] #Make it a new chosen path\n",
    "            elif new_state not in path:\n",
    "                queue.append((new_state,length+1,path+[new_state]))\n",
    "    return returnVal #After all the runs, return what we consider shortest"
   ]
  },
  {
   "cell_type": "code",
   "execution_count": 2,
   "metadata": {},
   "outputs": [],
   "source": [
    "import pickle, os\n",
    "import numpy as np\n",
    "\n",
    "dfsTimes = []\n",
    "bfsTimes = []\n",
    "savename = \"basic-search-algo-results.pickle\"\n",
    " \n",
    "if(not os.path.isfile(savename)):\n",
    "\n",
    "    for StartState in range(500):\n",
    "\n",
    "        t0 = time()\n",
    "        shortest_path = dfs(env, start=StartState)\n",
    "        t = time()-t0\n",
    "\n",
    "        t01 = time()\n",
    "        shortest_path2 = bfs(env, start=StartState)\n",
    "        t1 = time()-t01\n",
    "        dfsTimes.append(t)\n",
    "        bfsTimes.append(t1)\n",
    "        if(StartState%10==0):\n",
    "            print(\".\",end=\"\")\n",
    "            if(StartState%100==0):\n",
    "                print(\"/\")\n",
    "\n",
    "\n",
    "    saveThis = {\"dfs\" : dfsTimes, \"bfs\": bfsTimes}\n",
    "\n",
    "    with open(savename,\"wb\") as file:\n",
    "        pickle.dump(saveThis,file)\n",
    "        file.close()\n",
    "\n",
    "else:\n",
    "    with open(savename,\"rb\") as file:\n",
    "        x = pickle.load(file)\n",
    "        dfsTimes = np.array(x[\"dfs\"])\n",
    "        bfsTimes = np.array(x[\"bfs\"])"
   ]
  },
  {
   "cell_type": "code",
   "execution_count": 3,
   "metadata": {},
   "outputs": [
    {
     "name": "stderr",
     "output_type": "stream",
     "text": [
      "/home/sipekd/anaconda3/envs/bp/lib/python3.12/site-packages/gymnasium/core.py:311: UserWarning: \u001b[33mWARN: env.P to get variables from other wrappers is deprecated and will be removed in v1.0, to get this variable you can do `env.unwrapped.P` for environment variables or `env.get_wrapper_attr('P')` that will search the reminding wrappers.\u001b[0m\n",
      "  logger.warn(\n",
      "/home/sipekd/anaconda3/envs/bp/lib/python3.12/site-packages/gymnasium/core.py:311: UserWarning: \u001b[33mWARN: env.action_mask to get variables from other wrappers is deprecated and will be removed in v1.0, to get this variable you can do `env.unwrapped.action_mask` for environment variables or `env.get_wrapper_attr('action_mask')` that will search the reminding wrappers.\u001b[0m\n",
      "  logger.warn(\n"
     ]
    },
    {
     "name": "stdout",
     "output_type": "stream",
     "text": [
      "....................................................................................................\n",
      "....................................................................................................\n",
      "....................................................................................................\n",
      "....................................................................................................\n",
      "....................................................................................................\n",
      "0\n",
      "359\n"
     ]
    }
   ],
   "source": [
    "from BFS import bfs as bfs2\n",
    "from DFS import dfs as dfs2\n",
    "from lib.utilities import renderActions\n",
    "from lib.utilities import renderStates\n",
    "times1 = []\n",
    "times2 = []\n",
    "err_count = 0\n",
    "errStates = []\n",
    "\n",
    "otherPaths = []\n",
    "others = 0\n",
    "\n",
    "for StartState in range(500):\n",
    "    \n",
    "    # t0 = time()\n",
    "    # shortest_path = dfs(env, start=328)\n",
    "    # t = time()-t0\n",
    "\n",
    "    # for state in shortest_path:\n",
    "    #     env.setState(state)\n",
    "    #     clear_output()\n",
    "    #     print(env.render())\n",
    "    #     sleep(0.42)\n",
    "\n",
    "    #renderStates(shortest_path)\n",
    "\n",
    "    t0 = time()\n",
    "    shortest_path = dfs(env, start=StartState)\n",
    "    t = time()-t0\n",
    "\n",
    "    t0 = time()\n",
    "    shortest_path2 = dfs2(env, start=StartState)\n",
    "    t2 = time()-t0\n",
    "\n",
    "    times1.append(t)\n",
    "    times2.append(t2)\n",
    "\n",
    "    if(shortest_path != shortest_path2):\n",
    "        # print(\"target:\" + shortest_path)\n",
    "        # print(\"my:\" + shortest_path2)\n",
    "        if(len(shortest_path) != len(shortest_path2)):\n",
    "            err_count+=1\n",
    "            errStates.append([StartState,shortest_path,shortest_path2])\n",
    "        else:\n",
    "            others += 1\n",
    "            otherPaths.append([StartState,shortest_path,shortest_path2])\n",
    "\n",
    "    #print(shortest_path == shortest_path2)\n",
    "\n",
    "    print(\".\", end= \"\")\n",
    "    if((StartState+1) %100 == 0):\n",
    "        print(\"\")\n",
    "print(err_count)\n",
    "print(others)"
   ]
  },
  {
   "cell_type": "code",
   "execution_count": 4,
   "metadata": {},
   "outputs": [
    {
     "data": {
      "text/plain": [
       "499"
      ]
     },
     "execution_count": 4,
     "metadata": {},
     "output_type": "execute_result"
    }
   ],
   "source": [
    "StartState"
   ]
  },
  {
   "cell_type": "code",
   "execution_count": 5,
   "metadata": {},
   "outputs": [
    {
     "data": {
      "text/plain": [
       "[]"
      ]
     },
     "execution_count": 5,
     "metadata": {},
     "output_type": "execute_result"
    }
   ],
   "source": [
    "errStates"
   ]
  },
  {
   "cell_type": "code",
   "execution_count": 10,
   "metadata": {},
   "outputs": [],
   "source": [
    "speedupTimes = []\n",
    "minimum = float(\"inf\")\n",
    "maximum = float(\"-inf\")\n",
    "for i in range(len(times1)):\n",
    "    speedupTimes.append(times1[i] / times2[i])"
   ]
  },
  {
   "cell_type": "code",
   "execution_count": 12,
   "metadata": {},
   "outputs": [
    {
     "name": "stdout",
     "output_type": "stream",
     "text": [
      "Minimum: 0.09039295997404599x at:499\n",
      "Maximum: 4893.786697811654x at:218\n",
      "Průměr: 127.70106746634212x\n"
     ]
    }
   ],
   "source": [
    "speedup = np.array(speedupTimes)\n",
    "print(\"Minimum: \" + str(speedup.min()) + \"x at:\"  + str(speedup.argmin()) )\n",
    "print(\"Maximum: \" + str(speedup.max()) + \"x at:\"  + str(speedup.argmax()) )\n",
    "print(\"Průměr: \"+ str(speedup.mean())+\"x\")\n"
   ]
  },
  {
   "cell_type": "markdown",
   "metadata": {},
   "source": [
    "BFS: (Intel I7 1185G7 - 4C 8T @3.0GHz)   \n",
    "\n",
    "Minimum: 0.6838445807770961x at:379   \n",
    "Maximum: 365.6223128407429x at:4    \n",
    "Průměr: 40.26918843553583x\n",
    "\n",
    "DFS:\n",
    "Minimum: 0.09039295997404599x at:499  \n",
    "Maximum: 4893.786697811654x at:218  \n",
    "Průměr: 127.70106746634212x  \n"
   ]
  },
  {
   "cell_type": "code",
   "execution_count": 8,
   "metadata": {},
   "outputs": [
    {
     "name": "stdout",
     "output_type": "stream",
     "text": [
      "+---------+\n",
      "|\u001b[35m\u001b[34;1m\u001b[43mR\u001b[0m\u001b[0m\u001b[0m: | : :G|\n",
      "| : | : : |\n",
      "| : : : : |\n",
      "| | : | : |\n",
      "|Y| : |B: |\n",
      "+---------+\n",
      "\n",
      "\n"
     ]
    }
   ],
   "source": [
    "renderStates(bfs2(env,4))"
   ]
  },
  {
   "cell_type": "code",
   "execution_count": 9,
   "metadata": {},
   "outputs": [],
   "source": [
    "### Merged to our implementation in previous cell\n",
    "# t0 = time()\n",
    "# shortest_path = bfs(env, start=328)\n",
    "# t = time()-t0\n",
    "\n",
    "# for state in shortest_path:\n",
    "#     env.reset()\n",
    "#     env.unwrapped.s = state\n",
    "#     clear_output()\n",
    "#     print(env.render())\n",
    "#     sleep(0.42)\n",
    "\n",
    "# print(f'Shortest path of len {len(shortest_path)} found in {t} seconds.')\n",
    "# print(f'>> {shortest_path}')"
   ]
  }
 ],
 "metadata": {
  "kernelspec": {
   "display_name": "edu",
   "language": "python",
   "name": "python3"
  },
  "language_info": {
   "codemirror_mode": {
    "name": "ipython",
    "version": 3
   },
   "file_extension": ".py",
   "mimetype": "text/x-python",
   "name": "python",
   "nbconvert_exporter": "python",
   "pygments_lexer": "ipython3",
   "version": "3.12.0"
  }
 },
 "nbformat": 4,
 "nbformat_minor": 2
}
