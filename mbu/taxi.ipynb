{
 "cells": [
  {
   "cell_type": "code",
   "execution_count": 5,
   "metadata": {},
   "outputs": [
    {
     "name": "stdout",
     "output_type": "stream",
     "text": [
      "['/home/sipekd/Desktop/ReinforcementLearning', '/home/sipekd/Desktop/ReinforcementLearning', '/home/sipekd/Desktop/ReinforcementLearning', '/home/sipekd/Desktop/ReinforcementLearning/mbu', '/home/sipekd/anaconda3/envs/bat_clone/lib/python311.zip', '/home/sipekd/anaconda3/envs/bat_clone/lib/python3.11', '/home/sipekd/anaconda3/envs/bat_clone/lib/python3.11/lib-dynload', '', '/home/sipekd/anaconda3/envs/bat_clone/lib/python3.11/site-packages']\n"
     ]
    }
   ],
   "source": [
    "import gymnasium as gym\n",
    "from time import sleep, time\n",
    "import sys\n",
    "sys.path.insert(0,\"/home/sipekd/Desktop/ReinforcementLearning\")\n",
    "\n",
    "print(sys.path)\n",
    "\n",
    "from IPython.display import clear_output\n",
    "\n",
    "from lib.TaxiEnv import TaxiEnv\n",
    "\n",
    "env = TaxiEnv()\n",
    "\n",
    "def bfs(env, start):\n",
    "    queue = [(start, [start])]\n",
    "    while queue:\n",
    "        state, path = queue.pop(0)\n",
    "        for action in range(env.allActionCount):\n",
    "            env.setState( state)\n",
    "            new_state, reward, done, _, _ = env.step(action)\n",
    "\n",
    "            if done:\n",
    "                #yield path + [new_state]   # this would be to find all possible paths\n",
    "                return path + [new_state]   # return the first one (the shortest one in case of BFS)\n",
    "            elif new_state not in path:\n",
    "                queue.append((new_state, path + [new_state]))\n",
    "\n",
    "\n",
    "def dfs(env, start, maxLength = 15):\n",
    "    shortest = float(\"inf\")\n",
    "    queue = [(start, 0, [start])]\n",
    "    returnVal = []\n",
    "    while queue:\n",
    "        state, length, path = queue.pop()\n",
    "        if(length > maxLength or length > shortest):\n",
    "            continue\n",
    "        for action in range(env.allActionCount):\n",
    "            env.setState(state)\n",
    "            new_state, reward, done, _, _ = env.step(action)\n",
    "\n",
    "            if done and shortest > length:\n",
    "                print(\"X\")\n",
    "                shortest = length\n",
    "                returnVal = path + [new_state]\n",
    "            elif new_state not in path:\n",
    "                queue.append((new_state,length+1,path+[new_state]))\n",
    "    return returnVal"
   ]
  },
  {
   "cell_type": "code",
   "execution_count": 6,
   "metadata": {},
   "outputs": [
    {
     "name": "stdout",
     "output_type": "stream",
     "text": [
      "+---------+\n",
      "|\u001b[35m\u001b[34;1m\u001b[43mR\u001b[0m\u001b[0m\u001b[0m: | : :G|\n",
      "| : | : : |\n",
      "| : : : : |\n",
      "| | : | : |\n",
      "|Y| : |B: |\n",
      "+---------+\n",
      "\n",
      "\n",
      "Shortest path of len 11 found in 0.08693814277648926 seconds.\n",
      ">> [328, 228, 208, 308, 408, 416, 316, 216, 116, 16, 0]\n"
     ]
    }
   ],
   "source": [
    "from lib.utilities import renderStates\n",
    "t0 = time()\n",
    "shortest_path = dfs(env, start=328)\n",
    "t = time()-t0\n",
    "\n",
    "# for state in shortest_path:\n",
    "#     env.setState(state)\n",
    "#     clear_output()\n",
    "#     print(env.render())\n",
    "#     sleep(0.42)\n",
    "\n",
    "renderStates(shortest_path)\n",
    "\n",
    "print(f'Shortest path of len {len(shortest_path)} found in {t} seconds.')\n",
    "print(f'>> {shortest_path}')"
   ]
  }
 ],
 "metadata": {
  "kernelspec": {
   "display_name": "edu",
   "language": "python",
   "name": "python3"
  },
  "language_info": {
   "codemirror_mode": {
    "name": "ipython",
    "version": 3
   },
   "file_extension": ".py",
   "mimetype": "text/x-python",
   "name": "python",
   "nbconvert_exporter": "python",
   "pygments_lexer": "ipython3",
   "version": "3.11.5"
  }
 },
 "nbformat": 4,
 "nbformat_minor": 2
}
