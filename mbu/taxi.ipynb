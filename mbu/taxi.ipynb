{
 "cells": [
  {
   "cell_type": "code",
   "execution_count": 1,
   "metadata": {},
   "outputs": [
    {
     "name": "stdout",
     "output_type": "stream",
     "text": [
      "['/home/sipekd/Desktop/ReinforcementLearning', '/home/sipekd/Desktop/ReinforcementLearning/mbu', '/home/sipekd/anaconda3/envs/bp/lib/python312.zip', '/home/sipekd/anaconda3/envs/bp/lib/python3.12', '/home/sipekd/anaconda3/envs/bp/lib/python3.12/lib-dynload', '', '/home/sipekd/anaconda3/envs/bp/lib/python3.12/site-packages']\n"
     ]
    }
   ],
   "source": [
    "import gymnasium as gym\n",
    "from time import sleep, time\n",
    "import sys\n",
    "sys.path.insert(0,\"/home/sipekd/Desktop/ReinforcementLearning\")\n",
    "\n",
    "print(sys.path)\n",
    "\n",
    "from IPython.display import clear_output\n",
    "from lib.TaxiEnv import TaxiEnv\n",
    "from lib.utilities import renderStates\n",
    "\n",
    "env = TaxiEnv()\n",
    "\n",
    "def bfs(env, start):\n",
    "    queue = [(start, [start])]\n",
    "    while queue:\n",
    "        state, path = queue.pop(0)\n",
    "        for action in range(env.allActionCount):\n",
    "            env.setState( state)\n",
    "            new_state, reward, done, _, _ = env.step(action)\n",
    "\n",
    "            if done:\n",
    "                #yield path + [new_state]   # this would be to find all possible paths\n",
    "                return path + [new_state]   # return the first one (the shortest one in case of BFS)\n",
    "            elif new_state not in path:\n",
    "                queue.append((new_state, path + [new_state]))\n",
    "\n",
    "\n",
    "def dfs(env, start, maxLength = 20):\n",
    "    # if(maxLength == None):\n",
    "    #     maxLength = \n",
    "    deadWays = []\n",
    "    shortest = float(\"inf\")\n",
    "    queue = [(start, 0, [start])]\n",
    "    returnVal = []\n",
    "    while queue:\n",
    "        state, length, path = queue.pop()\n",
    "        if(length > maxLength or length > shortest):\n",
    "            deadWays.append(state)\n",
    "            continue\n",
    "        for action in range(env.allActionCount):\n",
    "            env.setState(state)\n",
    "            new_state, reward, done, _, _ = env.step(action)\n",
    "\n",
    "            if done and shortest > length:\n",
    "                shortest = length #Update \"Max length to newer number\" \n",
    "                returnVal = path + [new_state] #Make it a new chosen path\n",
    "            elif new_state not in path:\n",
    "                queue.append((new_state,length+1,path+[new_state]))\n",
    "    return returnVal #After all the runs, return what we consider shortest"
   ]
  },
  {
   "cell_type": "code",
   "execution_count": 2,
   "metadata": {},
   "outputs": [],
   "source": [
    "import pickle, os\n",
    "import numpy as np\n",
    "\n",
    "dfsTimes = []\n",
    "bfsTimes = []\n",
    "savename = \"basic-search-algo-results.pickle\"\n",
    " \n",
    "if(not os.path.isfile(savename)):\n",
    "\n",
    "    for StartState in range(500):\n",
    "\n",
    "        t0 = time()\n",
    "        shortest_path = dfs(env, start=StartState)\n",
    "        t = time()-t0\n",
    "\n",
    "        t01 = time()\n",
    "        shortest_path2 = bfs(env, start=StartState)\n",
    "        t1 = time()-t01\n",
    "        dfsTimes.append(t)\n",
    "        bfsTimes.append(t1)\n",
    "        if(StartState%10==0):\n",
    "            print(\".\",end=\"\")\n",
    "            if(StartState%100==0):\n",
    "                print(\"/\")\n",
    "\n",
    "\n",
    "    saveThis = {\"dfs\" : dfsTimes, \"bfs\": bfsTimes}\n",
    "\n",
    "    with open(savename,\"wb\") as file:\n",
    "        pickle.dump(saveThis,file)\n",
    "        file.close()\n",
    "\n",
    "else:\n",
    "    with open(savename,\"rb\") as file:\n",
    "        x = pickle.load(file)\n",
    "        dfsTimes = np.array(x[\"dfs\"])\n",
    "        bfsTimes = np.array(x[\"bfs\"])"
   ]
  },
  {
   "cell_type": "code",
   "execution_count": 4,
   "metadata": {},
   "outputs": [
    {
     "name": "stderr",
     "output_type": "stream",
     "text": [
      "/home/sipekd/anaconda3/envs/bp/lib/python3.12/site-packages/gymnasium/core.py:311: UserWarning: \u001b[33mWARN: env.P to get variables from other wrappers is deprecated and will be removed in v1.0, to get this variable you can do `env.unwrapped.P` for environment variables or `env.get_wrapper_attr('P')` that will search the reminding wrappers.\u001b[0m\n",
      "  logger.warn(\n",
      "/home/sipekd/anaconda3/envs/bp/lib/python3.12/site-packages/gymnasium/core.py:311: UserWarning: \u001b[33mWARN: env.action_mask to get variables from other wrappers is deprecated and will be removed in v1.0, to get this variable you can do `env.unwrapped.action_mask` for environment variables or `env.get_wrapper_attr('action_mask')` that will search the reminding wrappers.\u001b[0m\n",
      "  logger.warn(\n"
     ]
    },
    {
     "ename": "KeyboardInterrupt",
     "evalue": "",
     "output_type": "error",
     "traceback": [
      "\u001b[0;31m---------------------------------------------------------------------------\u001b[0m",
      "\u001b[0;31mKeyboardInterrupt\u001b[0m                         Traceback (most recent call last)",
      "\u001b[1;32m/home/sipekd/Desktop/ReinforcementLearning/mbu/taxi.ipynb Cell 3\u001b[0m line \u001b[0;36m2\n\u001b[1;32m     <a href='vscode-notebook-cell:/home/sipekd/Desktop/ReinforcementLearning/mbu/taxi.ipynb#W2sZmlsZQ%3D%3D?line=12'>13</a>\u001b[0m \u001b[39mfor\u001b[39;00m StartState \u001b[39min\u001b[39;00m \u001b[39mrange\u001b[39m(\u001b[39m500\u001b[39m):\n\u001b[1;32m     <a href='vscode-notebook-cell:/home/sipekd/Desktop/ReinforcementLearning/mbu/taxi.ipynb#W2sZmlsZQ%3D%3D?line=13'>14</a>\u001b[0m     \n\u001b[1;32m     <a href='vscode-notebook-cell:/home/sipekd/Desktop/ReinforcementLearning/mbu/taxi.ipynb#W2sZmlsZQ%3D%3D?line=14'>15</a>\u001b[0m     \u001b[39m# t0 = time()\u001b[39;00m\n\u001b[0;32m   (...)\u001b[0m\n\u001b[1;32m     <a href='vscode-notebook-cell:/home/sipekd/Desktop/ReinforcementLearning/mbu/taxi.ipynb#W2sZmlsZQ%3D%3D?line=23'>24</a>\u001b[0m \n\u001b[1;32m     <a href='vscode-notebook-cell:/home/sipekd/Desktop/ReinforcementLearning/mbu/taxi.ipynb#W2sZmlsZQ%3D%3D?line=24'>25</a>\u001b[0m     \u001b[39m#renderStates(shortest_path)\u001b[39;00m\n\u001b[1;32m     <a href='vscode-notebook-cell:/home/sipekd/Desktop/ReinforcementLearning/mbu/taxi.ipynb#W2sZmlsZQ%3D%3D?line=26'>27</a>\u001b[0m     t0 \u001b[39m=\u001b[39m time()\n\u001b[0;32m---> <a href='vscode-notebook-cell:/home/sipekd/Desktop/ReinforcementLearning/mbu/taxi.ipynb#W2sZmlsZQ%3D%3D?line=27'>28</a>\u001b[0m     shortest_path \u001b[39m=\u001b[39m dfs(env, start\u001b[39m=\u001b[39;49mStartState)\n\u001b[1;32m     <a href='vscode-notebook-cell:/home/sipekd/Desktop/ReinforcementLearning/mbu/taxi.ipynb#W2sZmlsZQ%3D%3D?line=28'>29</a>\u001b[0m     t \u001b[39m=\u001b[39m time()\u001b[39m-\u001b[39mt0\n\u001b[1;32m     <a href='vscode-notebook-cell:/home/sipekd/Desktop/ReinforcementLearning/mbu/taxi.ipynb#W2sZmlsZQ%3D%3D?line=30'>31</a>\u001b[0m     t0 \u001b[39m=\u001b[39m time()\n",
      "\u001b[1;32m/home/sipekd/Desktop/ReinforcementLearning/mbu/taxi.ipynb Cell 3\u001b[0m line \u001b[0;36m4\n\u001b[1;32m     <a href='vscode-notebook-cell:/home/sipekd/Desktop/ReinforcementLearning/mbu/taxi.ipynb#W2sZmlsZQ%3D%3D?line=39'>40</a>\u001b[0m     \u001b[39mcontinue\u001b[39;00m\n\u001b[1;32m     <a href='vscode-notebook-cell:/home/sipekd/Desktop/ReinforcementLearning/mbu/taxi.ipynb#W2sZmlsZQ%3D%3D?line=40'>41</a>\u001b[0m \u001b[39mfor\u001b[39;00m action \u001b[39min\u001b[39;00m \u001b[39mrange\u001b[39m(env\u001b[39m.\u001b[39mallActionCount):\n\u001b[0;32m---> <a href='vscode-notebook-cell:/home/sipekd/Desktop/ReinforcementLearning/mbu/taxi.ipynb#W2sZmlsZQ%3D%3D?line=41'>42</a>\u001b[0m     env\u001b[39m.\u001b[39;49msetState(state)\n\u001b[1;32m     <a href='vscode-notebook-cell:/home/sipekd/Desktop/ReinforcementLearning/mbu/taxi.ipynb#W2sZmlsZQ%3D%3D?line=42'>43</a>\u001b[0m     new_state, reward, done, _, _ \u001b[39m=\u001b[39m env\u001b[39m.\u001b[39mstep(action)\n\u001b[1;32m     <a href='vscode-notebook-cell:/home/sipekd/Desktop/ReinforcementLearning/mbu/taxi.ipynb#W2sZmlsZQ%3D%3D?line=44'>45</a>\u001b[0m     \u001b[39mif\u001b[39;00m done \u001b[39mand\u001b[39;00m shortest \u001b[39m>\u001b[39m length:\n",
      "File \u001b[0;32m~/Desktop/ReinforcementLearning/lib/TaxiEnv.py:66\u001b[0m, in \u001b[0;36mTaxiEnv.setState\u001b[0;34m(self, stateNum, returnVals)\u001b[0m\n\u001b[1;32m     64\u001b[0m pNum \u001b[39m=\u001b[39m\u001b[39mself\u001b[39m\u001b[39m.\u001b[39menv\u001b[39m.\u001b[39mP[stateNum]\n\u001b[1;32m     65\u001b[0m \u001b[39m#self.env.unwrapped.s = stateNum\u001b[39;00m\n\u001b[0;32m---> 66\u001b[0m \u001b[39mself\u001b[39;49m\u001b[39m.\u001b[39;49menv\u001b[39m.\u001b[39;49mreset()\n\u001b[1;32m     67\u001b[0m actionMask \u001b[39m=\u001b[39m\u001b[39mself\u001b[39m\u001b[39m.\u001b[39menv\u001b[39m.\u001b[39maction_mask(stateNum)\n\u001b[1;32m     68\u001b[0m \u001b[39mself\u001b[39m\u001b[39m.\u001b[39mlastState \u001b[39m=\u001b[39m (stateNum,{\u001b[39m'\u001b[39m\u001b[39mprob\u001b[39m\u001b[39m'\u001b[39m : \u001b[39m1.0\u001b[39m,\u001b[39m'\u001b[39m\u001b[39maction_mask\u001b[39m\u001b[39m'\u001b[39m:actionMask})\n",
      "File \u001b[0;32m~/anaconda3/envs/bp/lib/python3.12/site-packages/gymnasium/wrappers/order_enforcing.py:61\u001b[0m, in \u001b[0;36mOrderEnforcing.reset\u001b[0;34m(self, **kwargs)\u001b[0m\n\u001b[1;32m     59\u001b[0m \u001b[39m\u001b[39m\u001b[39m\"\"\"Resets the environment with `kwargs`.\"\"\"\u001b[39;00m\n\u001b[1;32m     60\u001b[0m \u001b[39mself\u001b[39m\u001b[39m.\u001b[39m_has_reset \u001b[39m=\u001b[39m \u001b[39mTrue\u001b[39;00m\n\u001b[0;32m---> 61\u001b[0m \u001b[39mreturn\u001b[39;00m \u001b[39mself\u001b[39;49m\u001b[39m.\u001b[39;49menv\u001b[39m.\u001b[39;49mreset(\u001b[39m*\u001b[39;49m\u001b[39m*\u001b[39;49mkwargs)\n",
      "File \u001b[0;32m~/anaconda3/envs/bp/lib/python3.12/site-packages/gymnasium/wrappers/env_checker.py:59\u001b[0m, in \u001b[0;36mPassiveEnvChecker.reset\u001b[0;34m(self, **kwargs)\u001b[0m\n\u001b[1;32m     57\u001b[0m     \u001b[39mreturn\u001b[39;00m env_reset_passive_checker(\u001b[39mself\u001b[39m\u001b[39m.\u001b[39menv, \u001b[39m*\u001b[39m\u001b[39m*\u001b[39mkwargs)\n\u001b[1;32m     58\u001b[0m \u001b[39melse\u001b[39;00m:\n\u001b[0;32m---> 59\u001b[0m     \u001b[39mreturn\u001b[39;00m \u001b[39mself\u001b[39;49m\u001b[39m.\u001b[39;49menv\u001b[39m.\u001b[39;49mreset(\u001b[39m*\u001b[39;49m\u001b[39m*\u001b[39;49mkwargs)\n",
      "File \u001b[0;32m~/anaconda3/envs/bp/lib/python3.12/site-packages/gymnasium/envs/toy_text/taxi.py:309\u001b[0m, in \u001b[0;36mTaxiEnv.reset\u001b[0;34m(self, seed, options)\u001b[0m\n\u001b[1;32m    307\u001b[0m \u001b[39mif\u001b[39;00m \u001b[39mself\u001b[39m\u001b[39m.\u001b[39mrender_mode \u001b[39m==\u001b[39m \u001b[39m\"\u001b[39m\u001b[39mhuman\u001b[39m\u001b[39m\"\u001b[39m:\n\u001b[1;32m    308\u001b[0m     \u001b[39mself\u001b[39m\u001b[39m.\u001b[39mrender()\n\u001b[0;32m--> 309\u001b[0m \u001b[39mreturn\u001b[39;00m \u001b[39mint\u001b[39m(\u001b[39mself\u001b[39m\u001b[39m.\u001b[39ms), {\u001b[39m\"\u001b[39m\u001b[39mprob\u001b[39m\u001b[39m\"\u001b[39m: \u001b[39m1.0\u001b[39m, \u001b[39m\"\u001b[39m\u001b[39maction_mask\u001b[39m\u001b[39m\"\u001b[39m: \u001b[39mself\u001b[39;49m\u001b[39m.\u001b[39;49maction_mask(\u001b[39mself\u001b[39;49m\u001b[39m.\u001b[39;49ms)}\n",
      "File \u001b[0;32m~/anaconda3/envs/bp/lib/python3.12/site-packages/gymnasium/envs/toy_text/taxi.py:267\u001b[0m, in \u001b[0;36mTaxiEnv.action_mask\u001b[0;34m(self, state)\u001b[0m\n\u001b[1;32m    265\u001b[0m \u001b[39m\u001b[39m\u001b[39m\"\"\"Computes an action mask for the action space using the state information.\"\"\"\u001b[39;00m\n\u001b[1;32m    266\u001b[0m mask \u001b[39m=\u001b[39m np\u001b[39m.\u001b[39mzeros(\u001b[39m6\u001b[39m, dtype\u001b[39m=\u001b[39mnp\u001b[39m.\u001b[39mint8)\n\u001b[0;32m--> 267\u001b[0m taxi_row, taxi_col, pass_loc, dest_idx \u001b[39m=\u001b[39m \u001b[39mself\u001b[39;49m\u001b[39m.\u001b[39;49mdecode(state)\n\u001b[1;32m    268\u001b[0m \u001b[39mif\u001b[39;00m taxi_row \u001b[39m<\u001b[39m \u001b[39m4\u001b[39m:\n\u001b[1;32m    269\u001b[0m     mask[\u001b[39m0\u001b[39m] \u001b[39m=\u001b[39m \u001b[39m1\u001b[39m\n",
      "File \u001b[0;32m~/anaconda3/envs/bp/lib/python3.12/site-packages/gymnasium/envs/toy_text/taxi.py:262\u001b[0m, in \u001b[0;36mTaxiEnv.decode\u001b[0;34m(self, i)\u001b[0m\n\u001b[1;32m    260\u001b[0m out\u001b[39m.\u001b[39mappend(i)\n\u001b[1;32m    261\u001b[0m \u001b[39massert\u001b[39;00m \u001b[39m0\u001b[39m \u001b[39m<\u001b[39m\u001b[39m=\u001b[39m i \u001b[39m<\u001b[39m \u001b[39m5\u001b[39m\n\u001b[0;32m--> 262\u001b[0m \u001b[39mreturn\u001b[39;00m \u001b[39mreversed\u001b[39;49m(out)\n",
      "\u001b[0;31mKeyboardInterrupt\u001b[0m: "
     ]
    }
   ],
   "source": [
    "from BFS import bfs as bfs2\n",
    "from DFS import dfs as dfs2\n",
    "from lib.utilities import renderActions\n",
    "from lib.utilities import renderStates\n",
    "times1 = []\n",
    "times2 = []\n",
    "err_count = 0\n",
    "errStates = []\n",
    "\n",
    "otherPaths = []\n",
    "others = 0\n",
    "\n",
    "for StartState in range(500):\n",
    "    \n",
    "    # t0 = time()\n",
    "    # shortest_path = dfs(env, start=328)\n",
    "    # t = time()-t0\n",
    "\n",
    "    # for state in shortest_path:\n",
    "    #     env.setState(state)\n",
    "    #     clear_output()\n",
    "    #     print(env.render())\n",
    "    #     sleep(0.42)\n",
    "\n",
    "    #renderStates(shortest_path)\n",
    "\n",
    "    t0 = time()\n",
    "    shortest_path = dfs(env, start=StartState)\n",
    "    t = time()-t0\n",
    "\n",
    "    t0 = time()\n",
    "    shortest_path2 = dfs2(env, start=StartState)\n",
    "    t2 = time()-t0\n",
    "\n",
    "    times1.append(t)\n",
    "    times2.append(t2)\n",
    "\n",
    "    if(shortest_path != shortest_path2):\n",
    "        # print(\"target:\" + shortest_path)\n",
    "        # print(\"my:\" + shortest_path2)\n",
    "        if(len(shortest_path) != len(shortest_path2)):\n",
    "            err_count+=1\n",
    "            errStates.append([StartState,shortest_path,shortest_path2])\n",
    "        else:\n",
    "            others += 1\n",
    "            otherPaths.append([StartState,shortest_path,shortest_path2])\n",
    "\n",
    "    #print(shortest_path == shortest_path2)\n",
    "    if((StartState+1) %10 == 0):\n",
    "        print(\".\", end= \"\")\n",
    "        if((StartState+1) %100 == 0):\n",
    "            print(\"\")\n",
    "print(err_count)\n",
    "print(others)"
   ]
  },
  {
   "cell_type": "code",
   "execution_count": null,
   "metadata": {},
   "outputs": [
    {
     "data": {
      "text/plain": [
       "24"
      ]
     },
     "execution_count": 4,
     "metadata": {},
     "output_type": "execute_result"
    }
   ],
   "source": [
    "StartState"
   ]
  },
  {
   "cell_type": "code",
   "execution_count": null,
   "metadata": {},
   "outputs": [],
   "source": [
    "speedupTimes = []\n",
    "minimum = float(\"inf\")\n",
    "maximum = float(\"-inf\")\n",
    "for i in range(len(times1)):\n",
    "    speedupTimes.append(times1[i] / times2[i])"
   ]
  },
  {
   "cell_type": "code",
   "execution_count": null,
   "metadata": {},
   "outputs": [
    {
     "name": "stdout",
     "output_type": "stream",
     "text": [
      "Minimum: 0.6838445807770961x at:379\n",
      "Maximum: 365.6223128407429x at:4\n",
      "Průměr: 40.26918843553583x\n"
     ]
    }
   ],
   "source": [
    "speedup = np.array(speedupTimes)\n",
    "print(\"Minimum: \" + str(speedup.min()) + \"x at:\"  + str(speedup.argmin()) )\n",
    "print(\"Maximum: \" + str(speedup.max()) + \"x at:\"  + str(speedup.argmax()) )\n",
    "print(\"Průměr: \"+ str(speedup.mean())+\"x\")\n"
   ]
  },
  {
   "cell_type": "markdown",
   "metadata": {},
   "source": [
    "BFS: (Intel I7 1185G7 - 4C 8T @3.0GHz)   \n",
    "\n",
    "Minimum: 0.6838445807770961x at:379   \n",
    "Maximum: 365.6223128407429x at:4    \n",
    "Průměr: 40.26918843553583x\n"
   ]
  },
  {
   "cell_type": "code",
   "execution_count": null,
   "metadata": {},
   "outputs": [
    {
     "name": "stdout",
     "output_type": "stream",
     "text": [
      "+---------+\n",
      "|\u001b[35m\u001b[34;1m\u001b[43mR\u001b[0m\u001b[0m\u001b[0m: | : :G|\n",
      "| : | : : |\n",
      "| : : : : |\n",
      "| | : | : |\n",
      "|Y| : |B: |\n",
      "+---------+\n",
      "\n",
      "\n"
     ]
    }
   ],
   "source": [
    "renderStates(bfs2(env,4))"
   ]
  },
  {
   "cell_type": "code",
   "execution_count": null,
   "metadata": {},
   "outputs": [],
   "source": [
    "### Merged to our implementation in previous cell\n",
    "# t0 = time()\n",
    "# shortest_path = bfs(env, start=328)\n",
    "# t = time()-t0\n",
    "\n",
    "# for state in shortest_path:\n",
    "#     env.reset()\n",
    "#     env.unwrapped.s = state\n",
    "#     clear_output()\n",
    "#     print(env.render())\n",
    "#     sleep(0.42)\n",
    "\n",
    "# print(f'Shortest path of len {len(shortest_path)} found in {t} seconds.')\n",
    "# print(f'>> {shortest_path}')"
   ]
  }
 ],
 "metadata": {
  "kernelspec": {
   "display_name": "edu",
   "language": "python",
   "name": "python3"
  },
  "language_info": {
   "codemirror_mode": {
    "name": "ipython",
    "version": 3
   },
   "file_extension": ".py",
   "mimetype": "text/x-python",
   "name": "python",
   "nbconvert_exporter": "python",
   "pygments_lexer": "ipython3",
   "version": "3.12.0"
  }
 },
 "nbformat": 4,
 "nbformat_minor": 2
}
