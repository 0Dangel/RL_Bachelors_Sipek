{
 "cells": [
  {
   "cell_type": "code",
   "execution_count": 1,
   "metadata": {},
   "outputs": [
    {
     "ename": "ModuleNotFoundError",
     "evalue": "No module named 'lib'",
     "output_type": "error",
     "traceback": [
      "\u001b[0;31m---------------------------------------------------------------------------\u001b[0m",
      "\u001b[0;31mModuleNotFoundError\u001b[0m                       Traceback (most recent call last)",
      "Cell \u001b[0;32mIn[1], line 5\u001b[0m\n\u001b[1;32m      2\u001b[0m \u001b[39mfrom\u001b[39;00m \u001b[39mtime\u001b[39;00m \u001b[39mimport\u001b[39;00m sleep, time\n\u001b[1;32m      3\u001b[0m \u001b[39mfrom\u001b[39;00m \u001b[39mIPython\u001b[39;00m\u001b[39m.\u001b[39;00m\u001b[39mdisplay\u001b[39;00m \u001b[39mimport\u001b[39;00m clear_output\n\u001b[0;32m----> 5\u001b[0m \u001b[39mfrom\u001b[39;00m \u001b[39mlib\u001b[39;00m\u001b[39m.\u001b[39;00m\u001b[39mTaxiEnv\u001b[39;00m \u001b[39mimport\u001b[39;00m TaxiEnv\n\u001b[1;32m      7\u001b[0m env \u001b[39m=\u001b[39m TaxiEnv()\n\u001b[1;32m      9\u001b[0m \u001b[39mdef\u001b[39;00m \u001b[39mbfs\u001b[39m(env, start):\n",
      "\u001b[0;31mModuleNotFoundError\u001b[0m: No module named 'lib'"
     ]
    }
   ],
   "source": [
    "import gymnasium as gym\n",
    "from time import sleep, time\n",
    "import sys\n",
    "sys.path.insert(0,\"../lib\")\n",
    "\n",
    "\n",
    "from IPython.display import clear_output\n",
    "\n",
    "from lib.TaxiEnv import TaxiEnv\n",
    "\n",
    "env = TaxiEnv()\n",
    "\n",
    "def bfs(env, start):\n",
    "    queue = [(start, [start])]\n",
    "    while queue:\n",
    "        state, path = queue.pop(0)\n",
    "        for action in range(env.allActionCount):\n",
    "            env.setState( state)\n",
    "            new_state, reward, done, _, _ = env.step(action)\n",
    "\n",
    "            if done:\n",
    "                #yield path + [new_state]   # this would be to find all possible paths\n",
    "                return path + [new_state]   # return the first one (the shortest one in case of BFS)\n",
    "            elif new_state not in path:\n",
    "                queue.append((new_state, path + [new_state]))"
   ]
  },
  {
   "cell_type": "code",
   "execution_count": null,
   "metadata": {},
   "outputs": [],
   "source": []
  },
  {
   "cell_type": "code",
   "execution_count": null,
   "metadata": {},
   "outputs": [
    {
     "name": "stdout",
     "output_type": "stream",
     "text": [
      "+---------+\n",
      "|\u001b[35m\u001b[34;1m\u001b[43mR\u001b[0m\u001b[0m\u001b[0m: | : :G|\n",
      "| : | : : |\n",
      "| : : : : |\n",
      "| | : | : |\n",
      "|Y| : |B: |\n",
      "+---------+\n",
      "\n",
      "\n",
      "Shortest path of len 11 found in 0.01257181167602539 seconds.\n",
      ">> [328, 228, 208, 308, 408, 416, 316, 216, 116, 16, 0]\n"
     ]
    }
   ],
   "source": [
    "t0 = time()\n",
    "shortest_path = bfs(env, start=328)\n",
    "t = time()-t0\n",
    "\n",
    "for state in shortest_path:\n",
    "    env.reset()\n",
    "    env.unwrapped.s = state\n",
    "    clear_output()\n",
    "    print(env.render())\n",
    "    sleep(0.42)\n",
    "\n",
    "print(f'Shortest path of len {len(shortest_path)} found in {t} seconds.')\n",
    "print(f'>> {shortest_path}')"
   ]
  }
 ],
 "metadata": {
  "kernelspec": {
   "display_name": "edu",
   "language": "python",
   "name": "python3"
  },
  "language_info": {
   "codemirror_mode": {
    "name": "ipython",
    "version": 3
   },
   "file_extension": ".py",
   "mimetype": "text/x-python",
   "name": "python",
   "nbconvert_exporter": "python",
   "pygments_lexer": "ipython3",
   "version": "3.12.0"
  }
 },
 "nbformat": 4,
 "nbformat_minor": 2
}
