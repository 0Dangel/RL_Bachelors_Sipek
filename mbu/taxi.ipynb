{
 "cells": [
  {
   "cell_type": "code",
   "execution_count": 1,
   "metadata": {},
   "outputs": [],
   "source": [
    "import gymnasium as gym\n",
    "from time import sleep, time\n",
    "import sys\n",
    "sys.path.insert(0,\"../\")\n",
    "\n",
    "\n",
    "from IPython.display import clear_output\n",
    "from lib.TaxiEnv import TaxiEnv\n",
    "\n",
    "env = TaxiEnv()\n",
    "\n",
    "def bfs(env, start):\n",
    "    queue = [(start, [start])]\n",
    "    while queue:\n",
    "        state, path = queue.pop(0)\n",
    "        for action in range(env.allActionCount):\n",
    "            env.setState( state)\n",
    "            new_state, reward, done, _, _ = env.step(action)\n",
    "\n",
    "            if done:\n",
    "                #yield path + [new_state]   # this would be to find all possible paths\n",
    "                return path + [new_state]   # return the first one (the shortest one in case of BFS)\n",
    "            elif new_state not in path:\n",
    "                queue.append((new_state, path + [new_state]))"
   ]
  },
  {
   "cell_type": "code",
   "execution_count": 2,
   "metadata": {},
   "outputs": [],
   "source": [
    "StartState = 328\n",
    "render = False"
   ]
  },
  {
   "cell_type": "code",
   "execution_count": 3,
   "metadata": {},
   "outputs": [
    {
     "name": "stdout",
     "output_type": "stream",
     "text": [
      "467\n"
     ]
    }
   ],
   "source": [
    "from BFS import bfs as bfs2\n",
    "from lib.utilities import renderActions\n",
    "times1 = []\n",
    "times2 = []\n",
    "err_count = 0\n",
    "errStates = []\n",
    "\n",
    "for StartState in range(500):\n",
    "\n",
    "    t0 = time()\n",
    "    shortest_path = bfs(env, start=StartState)\n",
    "    t = time()-t0\n",
    "\n",
    "    t0 = time()\n",
    "    shortest_path2 = bfs2(env, start=StartState)\n",
    "    t2 = time()-t0\n",
    "\n",
    "    times1.append(t)\n",
    "    times2.append(t2)\n",
    "\n",
    "    if(shortest_path != shortest_path2):\n",
    "        # print(\"target:\" + shortest_path)\n",
    "        # print(\"my:\" + shortest_path2)\n",
    "        err_count+=1\n",
    "        errStates.append(StartState)\n",
    "    #print(shortest_path == shortest_path2)\n",
    "\n",
    "if(render):\n",
    "    renderActions(shortest_path)\n",
    "\n",
    "    print(f'Shortest path of len {len(shortest_path)} found in {t} seconds.')\n",
    "    print(f'>> {shortest_path}')\n",
    "\n",
    "print(err_count)"
   ]
  },
  {
   "cell_type": "code",
   "execution_count": 4,
   "metadata": {},
   "outputs": [],
   "source": [
    "### Merged to our implementation in previous cell\n",
    "# t0 = time()\n",
    "# shortest_path = bfs(env, start=328)\n",
    "# t = time()-t0\n",
    "\n",
    "# for state in shortest_path:\n",
    "#     env.reset()\n",
    "#     env.unwrapped.s = state\n",
    "#     clear_output()\n",
    "#     print(env.render())\n",
    "#     sleep(0.42)\n",
    "\n",
    "# print(f'Shortest path of len {len(shortest_path)} found in {t} seconds.')\n",
    "# print(f'>> {shortest_path}')"
   ]
  }
 ],
 "metadata": {
  "kernelspec": {
   "display_name": "edu",
   "language": "python",
   "name": "python3"
  },
  "language_info": {
   "codemirror_mode": {
    "name": "ipython",
    "version": 3
   },
   "file_extension": ".py",
   "mimetype": "text/x-python",
   "name": "python",
   "nbconvert_exporter": "python",
   "pygments_lexer": "ipython3",
   "version": "3.12.0"
  }
 },
 "nbformat": 4,
 "nbformat_minor": 2
}
