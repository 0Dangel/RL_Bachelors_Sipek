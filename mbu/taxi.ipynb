{
 "cells": [
  {
   "cell_type": "code",
   "execution_count": 1,
   "metadata": {},
   "outputs": [
    {
     "name": "stdout",
     "output_type": "stream",
     "text": [
      "['/home/sipekd/Desktop/ReinforcementLearning', '/home/sipekd/Desktop/ReinforcementLearning/mbu', '/home/sipekd/anaconda3/envs/bp/lib/python312.zip', '/home/sipekd/anaconda3/envs/bp/lib/python3.12', '/home/sipekd/anaconda3/envs/bp/lib/python3.12/lib-dynload', '', '/home/sipekd/anaconda3/envs/bp/lib/python3.12/site-packages']\n"
     ]
    }
   ],
   "source": [
    "import gymnasium as gym\n",
    "from time import sleep, time\n",
    "import sys\n",
    "sys.path.insert(0,\"/home/sipekd/Desktop/ReinforcementLearning\")\n",
    "\n",
    "print(sys.path)\n",
    "\n",
    "from IPython.display import clear_output\n",
    "from lib.TaxiEnv import TaxiEnv\n",
    "from lib.utilities import renderStates\n",
    "\n",
    "env = TaxiEnv()\n",
    "\n",
    "def bfs(env, start):\n",
    "    queue = [(start, [start])]\n",
    "    while queue:\n",
    "        state, path = queue.pop(0)\n",
    "        for action in range(env.allActionCount):\n",
    "            env.setState( state)\n",
    "            new_state, reward, done, _, _ = env.step(action)\n",
    "\n",
    "            if done:\n",
    "                #yield path + [new_state]   # this would be to find all possible paths\n",
    "                return path + [new_state]   # return the first one (the shortest one in case of BFS)\n",
    "            elif new_state not in path:\n",
    "                queue.append((new_state, path + [new_state]))\n",
    "\n",
    "\n",
    "def dfs(env, start, maxLength = 20):\n",
    "    # if(maxLength == None):\n",
    "    #     maxLength = \n",
    "    deadWays = []\n",
    "    shortest = float(\"inf\")\n",
    "    queue = [(start, 0, [start])]\n",
    "    returnVal = []\n",
    "    while queue:\n",
    "        state, length, path = queue.pop()\n",
    "        if(length > maxLength or length > shortest):\n",
    "            deadWays.append(state)\n",
    "            continue\n",
    "        for action in range(env.allActionCount):\n",
    "            env.setState(state)\n",
    "            new_state, reward, done, _, _ = env.step(action)\n",
    "\n",
    "            if done and shortest > length:\n",
    "                shortest = length #Update \"Max length to newer number\" \n",
    "                returnVal = path + [new_state] #Make it a new chosen path\n",
    "            elif new_state not in path:\n",
    "                queue.append((new_state,length+1,path+[new_state]))\n",
    "    return returnVal #After all the runs, return what we consider shortest"
   ]
  },
  {
   "cell_type": "code",
   "execution_count": 4,
   "metadata": {},
   "outputs": [
    {
     "name": "stdout",
     "output_type": "stream",
     "text": [
      "+---------+\n",
      "|\u001b[35m\u001b[34;1m\u001b[43mR\u001b[0m\u001b[0m\u001b[0m: | : :G|\n",
      "| : | : : |\n",
      "| : : : : |\n",
      "| | : | : |\n",
      "|Y| : |B: |\n",
      "+---------+\n",
      "\n",
      "\n"
     ]
    }
   ],
   "source": [
    "StartState = 328\n",
    "render = False\n",
    "\n",
    "x = dfs(env,StartState)\n",
    "print(x)\n",
    "renderStates(x)"
   ]
  },
  {
   "cell_type": "code",
   "execution_count": 3,
   "metadata": {},
   "outputs": [
    {
     "name": "stdout",
     "output_type": "stream",
     "text": [
      "./\n"
     ]
    },
    {
     "ename": "KeyboardInterrupt",
     "evalue": "",
     "output_type": "error",
     "traceback": [
      "\u001b[0;31m---------------------------------------------------------------------------\u001b[0m",
      "\u001b[0;31mKeyboardInterrupt\u001b[0m                         Traceback (most recent call last)",
      "\u001b[1;32m/home/sipekd/Desktop/ReinforcementLearning/mbu/taxi.ipynb Cell 3\u001b[0m line \u001b[0;36m6\n\u001b[1;32m      <a href='vscode-notebook-cell:/home/sipekd/Desktop/ReinforcementLearning/mbu/taxi.ipynb#W2sZmlsZQ%3D%3D?line=2'>3</a>\u001b[0m \u001b[39mfor\u001b[39;00m StartState \u001b[39min\u001b[39;00m \u001b[39mrange\u001b[39m(\u001b[39m500\u001b[39m):\n\u001b[1;32m      <a href='vscode-notebook-cell:/home/sipekd/Desktop/ReinforcementLearning/mbu/taxi.ipynb#W2sZmlsZQ%3D%3D?line=4'>5</a>\u001b[0m     t0 \u001b[39m=\u001b[39m time()\n\u001b[0;32m----> <a href='vscode-notebook-cell:/home/sipekd/Desktop/ReinforcementLearning/mbu/taxi.ipynb#W2sZmlsZQ%3D%3D?line=5'>6</a>\u001b[0m     shortest_path \u001b[39m=\u001b[39m dfs(env, start\u001b[39m=\u001b[39;49mStartState)\n\u001b[1;32m      <a href='vscode-notebook-cell:/home/sipekd/Desktop/ReinforcementLearning/mbu/taxi.ipynb#W2sZmlsZQ%3D%3D?line=6'>7</a>\u001b[0m     t \u001b[39m=\u001b[39m time()\u001b[39m-\u001b[39mt0\n\u001b[1;32m      <a href='vscode-notebook-cell:/home/sipekd/Desktop/ReinforcementLearning/mbu/taxi.ipynb#W2sZmlsZQ%3D%3D?line=8'>9</a>\u001b[0m     t01 \u001b[39m=\u001b[39m time()\n",
      "\u001b[1;32m/home/sipekd/Desktop/ReinforcementLearning/mbu/taxi.ipynb Cell 3\u001b[0m line \u001b[0;36m4\n\u001b[1;32m     <a href='vscode-notebook-cell:/home/sipekd/Desktop/ReinforcementLearning/mbu/taxi.ipynb#W2sZmlsZQ%3D%3D?line=39'>40</a>\u001b[0m     \u001b[39mcontinue\u001b[39;00m\n\u001b[1;32m     <a href='vscode-notebook-cell:/home/sipekd/Desktop/ReinforcementLearning/mbu/taxi.ipynb#W2sZmlsZQ%3D%3D?line=40'>41</a>\u001b[0m \u001b[39mfor\u001b[39;00m action \u001b[39min\u001b[39;00m \u001b[39mrange\u001b[39m(env\u001b[39m.\u001b[39mallActionCount):\n\u001b[0;32m---> <a href='vscode-notebook-cell:/home/sipekd/Desktop/ReinforcementLearning/mbu/taxi.ipynb#W2sZmlsZQ%3D%3D?line=41'>42</a>\u001b[0m     env\u001b[39m.\u001b[39;49msetState(state)\n\u001b[1;32m     <a href='vscode-notebook-cell:/home/sipekd/Desktop/ReinforcementLearning/mbu/taxi.ipynb#W2sZmlsZQ%3D%3D?line=42'>43</a>\u001b[0m     new_state, reward, done, _, _ \u001b[39m=\u001b[39m env\u001b[39m.\u001b[39mstep(action)\n\u001b[1;32m     <a href='vscode-notebook-cell:/home/sipekd/Desktop/ReinforcementLearning/mbu/taxi.ipynb#W2sZmlsZQ%3D%3D?line=44'>45</a>\u001b[0m     \u001b[39mif\u001b[39;00m done \u001b[39mand\u001b[39;00m shortest \u001b[39m>\u001b[39m length:\n",
      "File \u001b[0;32m~/Desktop/ReinforcementLearning/lib/TaxiEnv.py:62\u001b[0m, in \u001b[0;36mTaxiEnv.setState\u001b[0;34m(self, stateNum)\u001b[0m\n\u001b[1;32m     59\u001b[0m     s\u001b[39m=\u001b[39m\u001b[39mself\u001b[39m\u001b[39m.\u001b[39menv\u001b[39m.\u001b[39mrender()\n\u001b[1;32m     60\u001b[0m     \u001b[39mprint\u001b[39m(s)\n\u001b[0;32m---> 62\u001b[0m \u001b[39mdef\u001b[39;00m \u001b[39msetState\u001b[39m(\u001b[39mself\u001b[39m,stateNum):\n\u001b[1;32m     63\u001b[0m     pNum \u001b[39m=\u001b[39m\u001b[39mself\u001b[39m\u001b[39m.\u001b[39menv\u001b[39m.\u001b[39mP[stateNum]\n\u001b[1;32m     64\u001b[0m     \u001b[39m#self.env.unwrapped.s = stateNum\u001b[39;00m\n",
      "\u001b[0;31mKeyboardInterrupt\u001b[0m: "
     ]
    }
   ],
   "source": [
    "\n",
    "\n",
    "dfsTimes = []\n",
    "bfsTimes = []\n",
    "for StartState in range(500):\n",
    "\n",
    "    t0 = time()\n",
    "    shortest_path = dfs(env, start=StartState)\n",
    "    t = time()-t0\n",
    "\n",
    "    t01 = time()\n",
    "    shortest_path2 = bfs(env, start=StartState)\n",
    "    t1 = time()-t01\n",
    "    dfsTimes.append(t)\n",
    "    bfsTimes.append(t1)\n",
    "    if(StartState%10==0):\n",
    "        print(\".\",end=\"\")\n",
    "        if(StartState%100==0):\n",
    "            print(\"/\")"
   ]
  },
  {
   "cell_type": "code",
   "execution_count": null,
   "metadata": {},
   "outputs": [
    {
     "name": "stdout",
     "output_type": "stream",
     "text": [
      "467\n",
      "+---------+\n",
      "|\u001b[35m\u001b[34;1m\u001b[43mR\u001b[0m\u001b[0m\u001b[0m: | : :G|\n",
      "| : | : : |\n",
      "| : : : : |\n",
      "| | : | : |\n",
      "|Y| : |B: |\n",
      "+---------+\n",
      "\n",
      "\n",
      "Shortest path of len 11 found in 0.08693814277648926 seconds.\n",
      ">> [328, 228, 208, 308, 408, 416, 316, 216, 116, 16, 0]\n"
     ]
    }
   ],
   "source": [
    "from BFS import bfs as bfs2\n",
    "from lib.utilities import renderActions\n",
    "times1 = []\n",
    "times2 = []\n",
    "err_count = 0\n",
    "errStates = []\n",
    "\n",
    "for StartState in range(500):\n",
    "from lib.utilities import renderStates\n",
    "t0 = time()\n",
    "shortest_path = dfs(env, start=328)\n",
    "t = time()-t0\n",
    "\n",
    "# for state in shortest_path:\n",
    "#     env.setState(state)\n",
    "#     clear_output()\n",
    "#     print(env.render())\n",
    "#     sleep(0.42)\n",
    "\n",
    "renderStates(shortest_path)\n",
    "\n",
    "    t0 = time()\n",
    "    shortest_path = bfs(env, start=StartState)\n",
    "    t = time()-t0\n",
    "\n",
    "    t0 = time()\n",
    "    shortest_path2 = bfs2(env, start=StartState)\n",
    "    t2 = time()-t0\n",
    "\n",
    "    times1.append(t)\n",
    "    times2.append(t2)\n",
    "\n",
    "    if(shortest_path != shortest_path2):\n",
    "        # print(\"target:\" + shortest_path)\n",
    "        # print(\"my:\" + shortest_path2)\n",
    "        err_count+=1\n",
    "        errStates.append(StartState)\n",
    "    #print(shortest_path == shortest_path2)\n",
    "\n",
    "if(render):\n",
    "    renderActions(shortest_path)\n",
    "\n",
    "    print(f'Shortest path of len {len(shortest_path)} found in {t} seconds.')\n",
    "    print(f'>> {shortest_path}')\n",
    "\n",
    "print(err_count)"
   ]
  },
  {
   "cell_type": "code",
   "execution_count": null,
   "metadata": {},
   "outputs": [],
   "source": [
    "### Merged to our implementation in previous cell\n",
    "# t0 = time()\n",
    "# shortest_path = bfs(env, start=328)\n",
    "# t = time()-t0\n",
    "\n",
    "# for state in shortest_path:\n",
    "#     env.reset()\n",
    "#     env.unwrapped.s = state\n",
    "#     clear_output()\n",
    "#     print(env.render())\n",
    "#     sleep(0.42)\n",
    "\n",
    "# print(f'Shortest path of len {len(shortest_path)} found in {t} seconds.')\n",
    "# print(f'>> {shortest_path}')"
   ]
  }
 ],
 "metadata": {
  "kernelspec": {
   "display_name": "edu",
   "language": "python",
   "name": "python3"
  },
  "language_info": {
   "codemirror_mode": {
    "name": "ipython",
    "version": 3
   },
   "file_extension": ".py",
   "mimetype": "text/x-python",
   "name": "python",
   "nbconvert_exporter": "python",
   "pygments_lexer": "ipython3",
   "version": "3.12.0"
  }
 },
 "nbformat": 4,
 "nbformat_minor": 2
}
