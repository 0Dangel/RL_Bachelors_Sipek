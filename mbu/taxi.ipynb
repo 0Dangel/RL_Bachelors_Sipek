{
 "cells": [
  {
   "cell_type": "code",
   "execution_count": 1,
   "metadata": {},
   "outputs": [
    {
     "name": "stdout",
     "output_type": "stream",
     "text": [
      "['/home/sipekd/Desktop/ReinforcementLearning', '/home/sipekd/Desktop/ReinforcementLearning/mbu', '/home/sipekd/anaconda3/envs/bat_clone/lib/python311.zip', '/home/sipekd/anaconda3/envs/bat_clone/lib/python3.11', '/home/sipekd/anaconda3/envs/bat_clone/lib/python3.11/lib-dynload', '', '/home/sipekd/anaconda3/envs/bat_clone/lib/python3.11/site-packages']\n"
     ]
    }
   ],
   "source": [
    "import gymnasium as gym\n",
    "from time import sleep, time\n",
    "import sys\n",
    "sys.path.insert(0,\"/home/sipekd/Desktop/ReinforcementLearning\")\n",
    "\n",
    "print(sys.path)\n",
    "\n",
    "from IPython.display import clear_output\n",
    "\n",
    "from lib.TaxiEnv import TaxiEnv\n",
    "\n",
    "env = TaxiEnv()\n",
    "\n",
    "def bfs(env, start):\n",
    "    queue = [(start, [start])]\n",
    "    while queue:\n",
    "        state, path = queue.pop(0)\n",
    "        for action in range(env.allActionCount):\n",
    "            env.setState( state)\n",
    "            new_state, reward, done, _, _ = env.step(action)\n",
    "\n",
    "            if done:\n",
    "                #yield path + [new_state]   # this would be to find all possible paths\n",
    "                return path + [new_state]   # return the first one (the shortest one in case of BFS)\n",
    "            elif new_state not in path:\n",
    "                queue.append((new_state, path + [new_state]))\n",
    "\n",
    "\n",
    "def dfs(env, start, maxLength = 15):\n",
    "    queue = [(start, 0, [start])]\n",
    "    while queue:\n",
    "        state, length, path = queue.pop()\n",
    "        if(length <= maxLength):\n",
    "            continue\n",
    "        for action in range(env.allActionCount):\n",
    "            env.setState(state)\n",
    "            new_state, reward, done, _, _ = env.step(action)\n",
    "\n",
    "            if done:\n",
    "                print(\"X\")\n",
    "                return path + [new_state]\n",
    "            elif new_state not in path:\n",
    "                queue.append((new_state,length+1,path+[new_state]))"
   ]
  },
  {
   "cell_type": "code",
   "execution_count": 2,
   "metadata": {},
   "outputs": [
    {
     "ename": "TypeError",
     "evalue": "'NoneType' object is not iterable",
     "output_type": "error",
     "traceback": [
      "\u001b[0;31m---------------------------------------------------------------------------\u001b[0m",
      "\u001b[0;31mTypeError\u001b[0m                                 Traceback (most recent call last)",
      "\u001b[1;32m/home/sipekd/Desktop/ReinforcementLearning/mbu/taxi.ipynb Cell 2\u001b[0m line \u001b[0;36m1\n\u001b[1;32m      <a href='vscode-notebook-cell:/home/sipekd/Desktop/ReinforcementLearning/mbu/taxi.ipynb#W1sZmlsZQ%3D%3D?line=3'>4</a>\u001b[0m t \u001b[39m=\u001b[39m time()\u001b[39m-\u001b[39mt0\n\u001b[1;32m      <a href='vscode-notebook-cell:/home/sipekd/Desktop/ReinforcementLearning/mbu/taxi.ipynb#W1sZmlsZQ%3D%3D?line=5'>6</a>\u001b[0m \u001b[39m# for state in shortest_path:\u001b[39;00m\n\u001b[1;32m      <a href='vscode-notebook-cell:/home/sipekd/Desktop/ReinforcementLearning/mbu/taxi.ipynb#W1sZmlsZQ%3D%3D?line=6'>7</a>\u001b[0m \u001b[39m#     env.setState(state)\u001b[39;00m\n\u001b[1;32m      <a href='vscode-notebook-cell:/home/sipekd/Desktop/ReinforcementLearning/mbu/taxi.ipynb#W1sZmlsZQ%3D%3D?line=7'>8</a>\u001b[0m \u001b[39m#     clear_output()\u001b[39;00m\n\u001b[1;32m      <a href='vscode-notebook-cell:/home/sipekd/Desktop/ReinforcementLearning/mbu/taxi.ipynb#W1sZmlsZQ%3D%3D?line=8'>9</a>\u001b[0m \u001b[39m#     print(env.render())\u001b[39;00m\n\u001b[1;32m     <a href='vscode-notebook-cell:/home/sipekd/Desktop/ReinforcementLearning/mbu/taxi.ipynb#W1sZmlsZQ%3D%3D?line=9'>10</a>\u001b[0m \u001b[39m#     sleep(0.42)\u001b[39;00m\n\u001b[0;32m---> <a href='vscode-notebook-cell:/home/sipekd/Desktop/ReinforcementLearning/mbu/taxi.ipynb#W1sZmlsZQ%3D%3D?line=11'>12</a>\u001b[0m renderStates(shortest_path)\n\u001b[1;32m     <a href='vscode-notebook-cell:/home/sipekd/Desktop/ReinforcementLearning/mbu/taxi.ipynb#W1sZmlsZQ%3D%3D?line=13'>14</a>\u001b[0m \u001b[39mprint\u001b[39m(\u001b[39mf\u001b[39m\u001b[39m'\u001b[39m\u001b[39mShortest path of len \u001b[39m\u001b[39m{\u001b[39;00m\u001b[39mlen\u001b[39m(shortest_path)\u001b[39m}\u001b[39;00m\u001b[39m found in \u001b[39m\u001b[39m{\u001b[39;00mt\u001b[39m}\u001b[39;00m\u001b[39m seconds.\u001b[39m\u001b[39m'\u001b[39m)\n\u001b[1;32m     <a href='vscode-notebook-cell:/home/sipekd/Desktop/ReinforcementLearning/mbu/taxi.ipynb#W1sZmlsZQ%3D%3D?line=14'>15</a>\u001b[0m \u001b[39mprint\u001b[39m(\u001b[39mf\u001b[39m\u001b[39m'\u001b[39m\u001b[39m>> \u001b[39m\u001b[39m{\u001b[39;00mshortest_path\u001b[39m}\u001b[39;00m\u001b[39m'\u001b[39m)\n",
      "File \u001b[0;32m~/Desktop/ReinforcementLearning/lib/utilities.py:19\u001b[0m, in \u001b[0;36mrenderStates\u001b[0;34m(stateList, animSpeed)\u001b[0m\n\u001b[1;32m     17\u001b[0m \u001b[39mdef\u001b[39;00m \u001b[39mrenderStates\u001b[39m(stateList, animSpeed \u001b[39m=\u001b[39m \u001b[39m0.42\u001b[39m):\n\u001b[1;32m     18\u001b[0m     env \u001b[39m=\u001b[39m TaxiEnv()\n\u001b[0;32m---> 19\u001b[0m     \u001b[39mfor\u001b[39;00m state \u001b[39min\u001b[39;00m stateList:\n\u001b[1;32m     20\u001b[0m         env\u001b[39m.\u001b[39msetState(state)\n\u001b[1;32m     21\u001b[0m         clear_output()\n",
      "\u001b[0;31mTypeError\u001b[0m: 'NoneType' object is not iterable"
     ]
    }
   ],
   "source": [
    "from lib.utilities import renderStates\n",
    "t0 = time()\n",
    "shortest_path = dfs(env, start=328)\n",
    "t = time()-t0\n",
    "\n",
    "# for state in shortest_path:\n",
    "#     env.setState(state)\n",
    "#     clear_output()\n",
    "#     print(env.render())\n",
    "#     sleep(0.42)\n",
    "\n",
    "renderStates(shortest_path)\n",
    "\n",
    "print(f'Shortest path of len {len(shortest_path)} found in {t} seconds.')\n",
    "print(f'>> {shortest_path}')"
   ]
  }
 ],
 "metadata": {
  "kernelspec": {
   "display_name": "edu",
   "language": "python",
   "name": "python3"
  },
  "language_info": {
   "codemirror_mode": {
    "name": "ipython",
    "version": 3
   },
   "file_extension": ".py",
   "mimetype": "text/x-python",
   "name": "python",
   "nbconvert_exporter": "python",
   "pygments_lexer": "ipython3",
   "version": "3.11.5"
  }
 },
 "nbformat": 4,
 "nbformat_minor": 2
}
