{
 "cells": [
  {
   "cell_type": "code",
   "execution_count": 3,
   "metadata": {},
   "outputs": [],
   "source": [
    "import gym\n",
    "from time import sleep, time\n",
    "from IPython.display import clear_output\n",
    "\n",
    "env = gym.make('Taxi-v3', render_mode='ansi')\n",
    "env.reset()\n",
    "\n",
    "def bfs(env, start):\n",
    "    queue = [(start, [start])]\n",
    "    while queue:\n",
    "        state, path = queue.pop(0)\n",
    "        for action in range(env.action_space.n):\n",
    "            env.unwrapped.s = state\n",
    "            new_state, reward, done, _, _ = env.step(action)\n",
    "\n",
    "            if done:\n",
    "                #yield path + [new_state]   # this would be to find all possible paths\n",
    "                return path + [new_state]   # return the first one (the shortest one in case of BFS)\n",
    "            elif new_state not in path:\n",
    "                queue.append((new_state, path + [new_state]))"
   ]
  },
  {
   "cell_type": "code",
   "execution_count": 4,
   "metadata": {},
   "outputs": [
    {
     "name": "stdout",
     "output_type": "stream",
     "text": [
      "+---------+\n",
      "|\u001b[35m\u001b[34;1m\u001b[43mR\u001b[0m\u001b[0m\u001b[0m: | : :G|\n",
      "| : | : : |\n",
      "| : : : : |\n",
      "| | : | : |\n",
      "|Y| : |B: |\n",
      "+---------+\n",
      "\n",
      "\n",
      "Shortest path of len 11 found in 0.054148197174072266 seconds.\n",
      ">> [328, 228, 208, 308, 408, 416, 316, 216, 116, 16, 0]\n"
     ]
    }
   ],
   "source": [
    "t0 = time()\n",
    "shortest_path = bfs(env, start=328)\n",
    "t = time()-t0\n",
    "\n",
    "for state in shortest_path:\n",
    "    env.reset()\n",
    "    env.unwrapped.s = state\n",
    "    clear_output()\n",
    "    print(env.render())\n",
    "    sleep(0.42)\n",
    "\n",
    "print(f'Shortest path of len {len(shortest_path)} found in {t} seconds.')\n",
    "print(f'>> {shortest_path}')"
   ]
  }
 ],
 "metadata": {
  "kernelspec": {
   "display_name": "edu",
   "language": "python",
   "name": "python3"
  },
  "language_info": {
   "codemirror_mode": {
    "name": "ipython",
    "version": 3
   },
   "file_extension": ".py",
   "mimetype": "text/x-python",
   "name": "python",
   "nbconvert_exporter": "python",
   "pygments_lexer": "ipython3",
   "version": "3.10.13"
  }
 },
 "nbformat": 4,
 "nbformat_minor": 2
}
